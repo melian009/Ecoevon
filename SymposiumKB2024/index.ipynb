{
 "cells": [
  {
   "cell_type": "markdown",
   "metadata": {
    "slideshow": {
     "slide_type": "slide"
    }
   },
   "source": [
    "<font size=\"5\">\n",
    "Paths to build theory in biodiversity research \n",
    "<font size=\"3\">\n",
    "\n",
    "    \n",
    "    \n",
    "   Symposium Fishec / AquaEco Symposium 2024, June 5\n",
    "    \n",
    "    \n",
    "   From genes, traits and functions to species diversity in contrasting climate zones\n",
    "\n",
    "        \n",
    "--------------------------------------------------------\n",
    "#### Carlos J. Melián\n",
    "#### https://github.com/melian009/Ecoevon/tree/master/SymposiumKB2024 "
   ]
  },
  {
   "cell_type": "markdown",
   "metadata": {
    "slideshow": {
     "slide_type": "slide"
    }
   },
   "source": [
    "## Hallmarks of any theory:\n",
    "\n",
    "* The new theory succeeds wherever the old theory did.\n",
    "* The new theory explains an observed phenomenon that the old theory couldn’t account for.\n",
    "* And the new theory, in comparison to the old theory, makes differing predictions that we can then go out and test."
   ]
  },
  {
   "cell_type": "markdown",
   "metadata": {
    "slideshow": {
     "slide_type": "subslide"
    }
   },
   "source": [
    "### References \n",
    "\n",
    "* Boyle et al. (2017). An Expanded View of Complex Traits: From Polygenic to Omnigenic. Cell. 169:1177-1186.\n",
    "* Melián et al. (2018). Deciphering the interdependence between ecological and evolutionary networks. TREE, 33:504-512.\n",
    "* Guimaraes, P. and Melián, C. J. (2024). The dynamics of ecosystem services along ecological network seascapes.  Sub. Journal of Physics: Complexity\n",
    "* Andreazzi, C., Astegiano, J. et al. (2024). Coupling complex genotype-to-phenotype architecture in the age of biodiversity crisis. Sub. to Ecography\n",
    "* Rodríguez, J., Eguíluz, V. M., and Melián, C. J. (2024). Mixing genomes on hybrid graphs predict non-linear speciation dynamics in diversifying lineages. Sub. to Evolution letters. "
   ]
  },
  {
   "cell_type": "markdown",
   "metadata": {
    "slideshow": {
     "slide_type": "skip"
    }
   },
   "source": [
    "## Where is theory?\n",
    "\n",
    "<img src=\"BLUEFUTURE&LevinsTriangle.png\" alt=\"drawing\" width=\"800\" height=\"800\"/>\n",
    "\n"
   ]
  },
  {
   "cell_type": "markdown",
   "metadata": {
    "slideshow": {
     "slide_type": "slide"
    }
   },
   "source": [
    "<img src=\"multilayerfoodweb.jpeg\" alt=\"drawing\" width=\"1000\" height=\"1000\"/>"
   ]
  },
  {
   "cell_type": "markdown",
   "metadata": {
    "slideshow": {
     "slide_type": "slide"
    }
   },
   "source": [
    "<img src=\"Infiniteisolatedlayers.png\" alt=\"drawing\" width=\"2000\" height=\"2000\"/>\n"
   ]
  },
  {
   "cell_type": "markdown",
   "metadata": {
    "slideshow": {
     "slide_type": "slide"
    }
   },
   "source": [
    "<img src=\"Interlayer.png\" alt=\"drawing\" width=\"1200\" height=\"1200\"/>"
   ]
  },
  {
   "cell_type": "markdown",
   "metadata": {
    "slideshow": {
     "slide_type": "slide"
    }
   },
   "source": [
    "<img src=\"InterlayerStrong.png\" alt=\"drawing\" width=\"1200\" height=\"1200\"/>"
   ]
  },
  {
   "cell_type": "markdown",
   "metadata": {
    "slideshow": {
     "slide_type": "slide"
    }
   },
   "source": [
    "<img src=\"IntralayerStrong.png\" alt=\"drawing\" width=\"1200\" height=\"1200\"/>"
   ]
  },
  {
   "cell_type": "markdown",
   "metadata": {
    "slideshow": {
     "slide_type": "slide"
    }
   },
   "source": [
    "<img src=\"lab.jpg\" alt=\"drawing\" width=\"700\" height=\"700\"/>\n"
   ]
  },
  {
   "cell_type": "markdown",
   "metadata": {
    "slideshow": {
     "slide_type": "slide"
    }
   },
   "source": [
    "\\begin{equation}\n",
    "{\\Large \\partial_t\\rho (\\bf{Z},t) = -\\nabla_{\\bf{Z}} \\big[\\nabla_{\\bf{Z}} F(\\bf{Z},\\bf{y_t})\\rho(\\bf{Z,t})\\big]} \n",
    "{\\Large -r(\\bf{Z},\\bf{y_t})\\rho(\\bf{Z,t})} \\nonumber\n",
    "\\\\\n",
    "{\\Large+\\int_{\\Omega}\\int_{\\Omega}M(\\bf{Z}|\\bf{Z'},\\bf{Z''})B(\\bf{Z'},\\bf{Z''})\\rho(\\bf{Z'},t)\\rho(\\bf{Z''},t)d^{d}\\bf{Z'}d^{d}\\bf{Z''}}\n",
    "\\end{equation}"
   ]
  },
  {
   "cell_type": "markdown",
   "metadata": {
    "slideshow": {
     "slide_type": "slide"
    }
   },
   "source": [
    " ## Z can be derived from the genotype-to-phenotype map\n",
    " \n",
    " \\begin{equation}\n",
    " {\\Large \\bf{z}_{j} = {f}(\\bf{L}), {f}:\\mathbb{R}^{m} \\rightarrow \\mathbb{R}^{z}}\n",
    " \\end{equation}\n",
    "\n",
    "\\begin{equation}\n",
    "{\\Large \\bf{Z} = {f}(\\bf{L}) = D[{f}(L)]=\\bf{B}\\bf{Y}},\n",
    "\\end{equation}\n",
    "\n",
    "where \n",
    "\n",
    "$\\bf{B}$ pleiotropy matrix size $(\\bf{L}, \\bf{Z})$\n",
    "\n",
    "$\\bf{Y}$ expression array\n",
    "\n",
    "$\\bf{E}$ epistasis matrix size $(\\bf{L}, \\bf{L})$\n",
    "\n",
    "Individual’s phenotype is given by the vector $\\bf{Z}$\n",
    "\n",
    "\\begin{equation}\n",
    "{\\Large \\bf{Z} = \\bf{B}^{T} \\bf{E}  \\bf{Y} + \\bf{\\epsilon}},\n",
    "\\end{equation}\n",
    " "
   ]
  },
  {
   "cell_type": "markdown",
   "metadata": {
    "slideshow": {
     "slide_type": "slide"
    }
   },
   "source": [
    "## Abiotic trait\n",
    "\n",
    "\\begin{equation}\n",
    "{\\Large D(z_{ia}) = \\lvert 0.5 - cdf(\\mathcal{N}(\\theta_{a}, \\sigma^2), z_{ia}) \\lvert},\n",
    "\\end{equation}\n",
    "\n",
    "$D(z_{ia})$ is the distance of abiotic trait of individual $i$ to its optimum, \n",
    "\n",
    "$\\theta_{a}$ is the optimal value used as the mean of a normal distribution, \n",
    "\n",
    "$\\sigma^{2}$ is the variance of the normal distribution, \n",
    "\n",
    "$z_{ia}$ is the value of the abiotic trait $i$ and\n",
    "\n",
    "$cdf$ is cumulative distribution function. \n",
    "\n",
    "The fitness of the abiotic trait of individual $i$ is then given by \n",
    "\n",
    "\\begin{equation}\n",
    "{\\Large W(z_{ia}) = 1 - D(z_{ia})}\n",
    "\\end{equation}"
   ]
  },
  {
   "cell_type": "markdown",
   "metadata": {
    "slideshow": {
     "slide_type": "slide"
    }
   },
   "source": [
    "## Biotic trait\n",
    "\n",
    "\\begin{equation}\n",
    "{\\Large D_{z_{ib} z_{jb}} = \\lvert 0.5 - cdf(\\mathcal{N}(z_{ib}, \\sigma^2), z_{jb}) \\lvert}\n",
    "\\end{equation}\n",
    "\n",
    "where $D_{z_{ib} z_{jb}}$ is the distance between individual biotic phenotypes $i$ and $j$. \n",
    "\n",
    "$\\sigma^2$ is the variance of a normal distribution. The larger the $\\sigma^2$, the less significant are small phenotypic differences between the two individuals. If two individuals interact, their fitness increases or decreases depending on the nature of their species-species interactions, meaning how much an interaction affect each of the species is a function of their biology. \n",
    "\n",
    "The strength of an interaction is a function of species-species coefficient and the phenotypic distance between the two individuals\n",
    "\n",
    "\\begin{equation}\n",
    "{\\Large s_{z_{ib} z_{jb}} = (1 - D_{z_{ib} z_{jb}}) \\times \\lvert c_{z_{xb} z_{yb}} \\lvert \\times sign(c_{z_{xb} z_{yb}})}\n",
    "\\end{equation}"
   ]
  },
  {
   "cell_type": "markdown",
   "metadata": {
    "slideshow": {
     "slide_type": "slide"
    }
   },
   "source": [
    "## Fitness\n",
    "\n",
    "\\begin{equation}\n",
    "{\\Large W_{Z_{i}} = W_{z_{ia}} + s_{z_{ib} z_{jb}}},\n",
    "\\end{equation}\n",
    "\n",
    "and the fitness function takes into account the selection coefficient as\n",
    "\n",
    "\\begin{equation}\n",
    "{\\Large W_{Z_{i}} = 1 - ( (1 - W_{Z_{i}}) \\times s_x)}\n",
    "\\end{equation}    "
   ]
  },
  {
   "cell_type": "markdown",
   "metadata": {
    "slideshow": {
     "slide_type": "slide"
    }
   },
   "source": [
    "<img src=\"heatmaphh.png\" alt=\"drawing\" width=\"1000\" height=\"1000\"/>"
   ]
  },
  {
   "cell_type": "markdown",
   "metadata": {
    "slideshow": {
     "slide_type": "slide"
    }
   },
   "source": [
    "## Take home message\n",
    "\n",
    "* Predict as old theory: Gene and trait distribution, LD, Population structure and all the Fst varieties.\n",
    "\n",
    "  ** Assumption: infinite loci with weak effects for a large number of genes and traits\n",
    "\n",
    "\n",
    "* New predictions for existing data: Complex GPA to diversification and biodiversity patterns (Number of species, diversity, ecological networks)\n",
    "\n",
    "  ** Assumption: Evolving pleiotropy, epistasis and regulation but still GPA can be unique\n",
    "\n",
    "\n",
    "* New predictions no data: Complex GPA in biodiversity seascapes (dimensionality of the fitness seascape)\n",
    "\n",
    "  ** Assumption: Fitness gradients from trait hierarchy to heterarchy in complex multidimensional seascapes \n"
   ]
  },
  {
   "cell_type": "markdown",
   "metadata": {
    "slideshow": {
     "slide_type": "skip"
    }
   },
   "source": [
    "### 1. Role of fluctuating environments and interactions on ecosystem services\n",
    "\n",
    "<img src=\"fig4n.png\" alt=\"drawing\" width=\"800\" height=\"800\"/>\n",
    "\n",
    "\n",
    "* Guimaraes, P. and Melián, C. J. (2024). The dynamics of ecosystem services along ecological network seascapes. \n",
    "Submitted to Journal of Physics: Complexity"
   ]
  },
  {
   "cell_type": "markdown",
   "metadata": {
    "slideshow": {
     "slide_type": "skip"
    }
   },
   "source": [
    "### 2. Coupling multiple levels into biodiverssity dynamics\n",
    "\n",
    "<img src=\"correlationtraits.png\" alt=\"drawing\" width=\"800\" height=\"800\"/>\n",
    "\n",
    "\n",
    "* Andreazzi, Astegiano et al. (2024). Coupling complex genotype to phenotype\n",
    "architecture in the age of biodiversity crisis. Submitted to Ecography"
   ]
  },
  {
   "cell_type": "markdown",
   "metadata": {
    "slideshow": {
     "slide_type": "skip"
    }
   },
   "source": [
    "### References \n",
    "\n",
    "* Rainey, P., Travisano, M. (1998). Adaptive radiation in a heterogeneous environment. Nature 394:69–72.\n",
    "* Melo and Marroig (2015). Directional selection can drive the evolution of modularity in complex traits. PNAS, 112:470-475.\n",
    "* Goswami et al (2015). The fossil record of phenotypic integration and modularity: A deep-time perspective on developmental and evolutionary dynamics. PNAS, 112:4891-4896.\n",
    "* Laughlin D.C., and Messier J. (2015). Fitness of multidimensional phenotypes in dynamic adaptive landscapes. TREE, 30:487-496.\n",
    "* Barros, C. et al. (2016). N‐dimensional hypervolumes to study stability of complex ecosystems. Ecol. Lett., 19:729–742.\n",
    "* Boyle et al. (2017). An Expanded View of Complex Traits: From Polygenic to Omnigenic. Cell. 169:1177-1186.\n",
    "* Melián et al. (2018). Deciphering the interdependence between ecological and evolutionary networks. TREE, 33:504-512."
   ]
  },
  {
   "cell_type": "markdown",
   "metadata": {
    "slideshow": {
     "slide_type": "skip"
    }
   },
   "source": [
    "\\begin{equation}\n",
    "{\\Large \\partial_t\\rho (\\bf{Z},t) = -\\nabla_{\\bf{z}} \\big[\\nabla_{\\bf{z}} F(\\bf{z},\\bf{y_t})\\rho(\\bf{z,t})\\big]} \n",
    "{\\Large -r(\\bf{z},\\bf{y_t})\\rho(\\bf{z,t})} \\nonumber\n",
    "\\\\\n",
    "{\\Large+\\int_{\\Omega}\\int_{\\Omega}M(\\bf{z}|\\bf{z'},\\bf{z''})B(\\bf{z'},\\bf{z''})\\rho(\\bf{z'},t)\\rho(\\bf{z''},t)d^{d}\\bf{z'}d^{d}\\bf{z''}}\n",
    "\\end{equation}"
   ]
  },
  {
   "cell_type": "markdown",
   "metadata": {
    "slideshow": {
     "slide_type": "skip"
    }
   },
   "source": [
    "<img src=\"trait_space.png\" alt=\"drawing\" width=\"500\" height=\"500\"/>"
   ]
  },
  {
   "cell_type": "markdown",
   "metadata": {
    "slideshow": {
     "slide_type": "skip"
    }
   },
   "source": [
    "## The problem"
   ]
  },
  {
   "cell_type": "markdown",
   "metadata": {
    "slideshow": {
     "slide_type": "skip"
    }
   },
   "source": [
    "    \n",
    "${\\bf \\Omega_{BAM}}$ = \n",
    "$\\begin{bmatrix} \n",
    "V_B & C_{BA} & C_{BM} \\\\ \n",
    "C_{AB} & V_A & C_{AM} \\\\ \n",
    "C_{MB} & C_{MA} & V_M  \n",
    "\\end{bmatrix}$\n",
    "\n",
    "\n",
    "$\\mathbf{W}({\\bf z})^{t}_{ix} = exp[-\\gamma({\\color{red}[{\\bf z}^{t}_{ix} - {\\bf \\theta^{t}}_{ix}\\color{red}]^T} {\\bf \\Omega_{BAM}}^{-1} {\\color{red}[{\\bf z}^{t}_{ix} - {\\bf \\theta^{t}}_{ix}\\color{red}]})]$\n",
    "\n",
    "\n",
    "    \n",
    "$\n",
    "\\underbrace{\\begin{bmatrix}\n",
    " W({\\bf z_{B}}^{t}_{ix})     \\\\\n",
    " W({\\bf z_{A}}^{t}_{ix})     \\\\\n",
    " \\vdots  \\\\\n",
    " W({\\bf z_{M}}^{t}_{ix})     \\\\\n",
    "            \\end{bmatrix}\n",
    "          }_{\\mathbf{W}}$\n",
    "           = $\\underbrace{\\begin{bmatrix}\n",
    " W({B}^{t}_{ix})^{*}     \\\\\n",
    " W({A}^{t}_{ix})^{*}     \\\\\n",
    " \\vdots  \\\\\n",
    " W({M}^{t}_{ix})^{*}     \\\\\n",
    "            \\end{bmatrix}^{T}\n",
    "             }_{\\mathbf{W}}$\n",
    "$\\underbrace{\\begin{bmatrix}\n",
    "V_{B}       &   C_{BA}       & \\dots     &   C_{BM}       \\\\\n",
    "C_{AB}       &   V_{A}       & \\dots     &   C_{AM}       \\\\\n",
    "\\vdots  &  \\vdots   &   \\vdots  &   \\vdots  \\\\   \n",
    "C_{MB}       &   C_{MA}      & \\dots     &   V_{M}       \\\\\n",
    "            \\end{bmatrix}^{-1}\n",
    "            }_{\\mathbf{\\Omega_{BAM}}}$\n",
    "$\\underbrace{\\begin{bmatrix}\n",
    "W({B}^{t}_{ix})^{*}     \\\\\n",
    "W({A}^{t}_{ix})^{*}     \\\\\n",
    "\\vdots  \\\\\n",
    "W({M}^{t}_{ix})^{*}     \\\\\n",
    "            \\end{bmatrix}\n",
    "             }_{\\mathbf{W}}$"
   ]
  },
  {
   "cell_type": "markdown",
   "metadata": {
    "slideshow": {
     "slide_type": "skip"
    }
   },
   "source": [
    " ## GPA\n",
    " \n",
    " \\begin{equation}\n",
    " {\\Large \\bf{z}_{j} = {f}(\\bf{L}), {f}:\\mathbb{R}^{m} \\rightarrow \\mathbb{R}^{z}}\n",
    " \\end{equation}\n",
    "\n",
    "Assuming the function \\emph{f} is differentiable, we can take a linear approximation given by the differentiation of \\emph{f}, which has been called $\\bf{B}$ or the pleiotropy matrix ($\\bf{B}$ has size $(\\bf{L}, \\bf{Z})$ with $\\bf{L}$ rows and $\\bf{Z}$ columns) \\citep{Lande&Arnold:1980,Wagner223,Pavlicev&Hansen:2011,Melo&Marroig:2014}. A linear function assuming alleles having additive effects becomes\n",
    "\n",
    "\\begin{equation}\n",
    "{\\Large \\bf{Z} = {f}(\\bf{L}) = D[{f}(L)]=\\bf{B}\\bf{Y}},\n",
    "\\end{equation}\n",
    "\n",
    "where $\\bf{B}[{b}_{ij}]$ is a binary matrix determining the presence/absence of influence of a particular locus, $l_{i}$ on a particular trait, $z_{j}$. If ${b}_{ij}$ is 1, locus $l_{i}$ influences additive trait $z_{j}$, and if it is 0, it does not \\citep{Melo&Marroig:2014}. The magnitude of effect of a gene on a trait is adjusted by the expression level of the gene, controlled by a expression array $\\bf{Y}$. For an additional level of control, the epistasis matrix, $\\bf{E}$, multiplies the pleiotropy matrix $\\bf{B}$, meaning epistatic and pleiotropic interactions determine trait values. In this formulation, an individual’s phenotype is given by the vector $\\bf{Z}$\n",
    "\n",
    "\\begin{equation}\n",
    "{\\Large \\bf{Z} = \\bf{B}^{T} \\bf{E}  \\bf{Y} + \\bf{\\epsilon}},\n",
    "\\end{equation}\n",
    " "
   ]
  },
  {
   "cell_type": "markdown",
   "metadata": {
    "slideshow": {
     "slide_type": "skip"
    }
   },
   "source": [
    "## Abiotic trait\n",
    "\n",
    "\\begin{equation}\n",
    "{\\Large D(z_{ia}) = \\lvert 0.5 - cdf(\\mathcal{N}(\\theta_{a}, \\sigma^2), z_{ia}) \\lvert},\n",
    "\\end{equation}\n",
    "where $D(z_{ia})$ is the distance of abiotic trait of individual $i$ to its optimum, $\\theta_{a}$ is the optimal value used as the mean of a normal distribution, $\\sigma^{2}$ is the variance of the normal distribution, and $z_{ia}$ is the value of the abiotic trait $i$ and $cdf$ is cumulative distribution function. $D(z_{ia})$ is a probability and is calculated by the number of standard deviations that the agent's phenotype is different from the optimal phenotype. The fitness of the abiotic trait of individual $i$ is then given by \n",
    "\n",
    "\\begin{equation}\n",
    "{\\Large W(z_{ia}) = 1 - D(z_{ia})}\n",
    "\\end{equation}"
   ]
  },
  {
   "cell_type": "markdown",
   "metadata": {
    "slideshow": {
     "slide_type": "skip"
    }
   },
   "source": [
    "## Biotic trait\n",
    "\n",
    "\\begin{equation}\n",
    "{\\Large D_{z_{ib} z_{jb}} = \\lvert 0.5 - cdf(\\mathcal{N}(z_{ib}, \\sigma^2), z_{jb}) \\lvert}\n",
    "\\end{equation}\n",
    "\n",
    "where $D_{z_{ib} z_{jb}}$ is the distance between individual biotic phenotypes $i$ and $j$. $\\sigma^2$ is the variance of a normal distribution. The larger the $\\sigma^2$, the less significant are small phenotypic differences between the two individuals. If two individuals interact, their fitness increases or decreases depending on the nature of their species-species interactions, meaning how much an interaction affect each of the species is a function of their biology. The strength of an interaction is a function of species-species coefficient and the phenotypic distance between the two individuals\n",
    "\\begin{equation}\n",
    "{\\Large s_{z_{ib} z_{jb}} = (1 - D_{z_{ib} z_{jb}}) \\times \\lvert c_{z_{xb} z_{yb}} \\lvert \\times sign(c_{z_{xb} z_{yb}})}\n",
    "\\end{equation}"
   ]
  },
  {
   "cell_type": "markdown",
   "metadata": {
    "slideshow": {
     "slide_type": "skip"
    }
   },
   "source": [
    "## Fitness\n",
    "\n",
    "\\begin{equation}\n",
    "{\\Large W_{Z_{i}} = W_{z_{ia}} + s_{z_{ib} z_{jb}}},\n",
    "\\end{equation}\n",
    "and the fitness function takes into account the selection coefficient as\n",
    "\\begin{equation}\n",
    "{\\Large W_{Z_{i}} = 1 - ( (1 - W_{Z_{i}}) \\times s_x)}\n",
    "\\end{equation}    "
   ]
  },
  {
   "cell_type": "markdown",
   "metadata": {
    "slideshow": {
     "slide_type": "skip"
    }
   },
   "source": [
    "### We can now explore the connection between the GPA and diversity patterns "
   ]
  },
  {
   "cell_type": "markdown",
   "metadata": {
    "slideshow": {
     "slide_type": "skip"
    }
   },
   "source": [
    "<img src=\"heatmap.png\" alt=\"drawing\" width=\"600\" height=\"600\"/>"
   ]
  },
  {
   "cell_type": "markdown",
   "metadata": {
    "slideshow": {
     "slide_type": "skip"
    }
   },
   "source": [
    "<img src=\"shannonIndex_regime_gen1001-1.png\" alt=\"drawing\" width=\"300\" height=\"250\"/>"
   ]
  },
  {
   "cell_type": "markdown",
   "metadata": {
    "slideshow": {
     "slide_type": "skip"
    }
   },
   "source": [
    "<img src=\"GPACovMat.jpg\" alt=\"drawing\" width=\"650\" height=\"650\"/>"
   ]
  }
 ],
 "metadata": {
  "@webio": {
   "lastCommId": null,
   "lastKernelId": null
  },
  "celltoolbar": "Slideshow",
  "kernelspec": {
   "display_name": "Python 3 (ipykernel)",
   "language": "python",
   "name": "python3"
  },
  "language_info": {
   "codemirror_mode": {
    "name": "ipython",
    "version": 3
   },
   "file_extension": ".py",
   "mimetype": "text/x-python",
   "name": "python",
   "nbconvert_exporter": "python",
   "pygments_lexer": "ipython3",
   "version": "3.11.2"
  }
 },
 "nbformat": 4,
 "nbformat_minor": 2
}
