{
 "cells": [
  {
   "cell_type": "markdown",
   "metadata": {
    "slideshow": {
     "slide_type": "slide"
    }
   },
   "source": [
    "# Dynamics of feedbacks in nonequilibrium biodiversity organizational scale\n",
    "\n",
    "\n",
    "### Carlos J. Melian, Eawag, ETH-Domain, Switzerland\n",
    "    \n",
    "--------------------------------------------------------\n",
    "#### https://github.com/melian009/Ecoevon/tree/master/CCSS2024 "
   ]
  },
  {
   "cell_type": "markdown",
   "metadata": {
    "slideshow": {
     "slide_type": "subslide"
    }
   },
   "source": [
    "## References \n",
    "\n",
    "#### Rainey, P., Travisano, M. (1998). Adaptive radiation in a heterogeneous environment. Nature 394:69–72.\n",
    "#### Kleidon, A. (2010). Non-equilibrium thermodynamics, maximum entropy production and Earth-system evolution. Philo. Trans. Math., Phys., and Eng. Sciences, 368:181-196.\n",
    "#### Melo and Marroig (2015). Directional selection can drive the evolution of modularity in complex traits. PNAS, 112:470-475.\n",
    "#### Goswami et al (2015). The fossil record of phenotypic integration and modularity: A deep-time perspective on developmental and evolutionary dynamics. PNAS, 112:4891-4896.\n",
    "#### Laughlin D.C., and Messier J. (2015). Fitness of multidimensional phenotypes in dynamic adaptive landscapes. TREE, 30:487-496.\n",
    "#### Barros, C. et al. (2016). N‐dimensional hypervolumes to study stability of complex ecosystems. Ecol. Lett., 19:729–742.\n",
    "#### Boyle et al. (2017). An expanded view of complex traits: From polygenic to omnigenic. Cell. 169:1177-1186.\n",
    "#### Melián et al. (2018). Deciphering the interdependence between ecological and evolutionary networks. TREE, 33:504-512.\n",
    "#### Andreazzi, C., et al (2024). Biodiversity dynamics with complex genotype-to-phenotype architectures. Submitted to Biol. Rev."
   ]
  },
  {
   "cell_type": "markdown",
   "metadata": {
    "slideshow": {
     "slide_type": "slide"
    }
   },
   "source": [
    "##### Where are we now \n",
    "#### Nonequilibrium\n",
    "### Feedbacks\n",
    "## Where are we gonna go \n",
    "## Biodiversity organizational scale\n",
    "# Route to dimensionality"
   ]
  },
  {
   "cell_type": "markdown",
   "metadata": {
    "slideshow": {
     "slide_type": "slide"
    }
   },
   "source": [
    "##### Where are we now "
   ]
  },
  {
   "cell_type": "markdown",
   "metadata": {
    "slideshow": {
     "slide_type": "subslide"
    }
   },
   "source": [
    "<img src=\"./CCSS2024Fig/ElephantsLargerGirrafeDali.jpg\" alt=\"drawing\" width=\"500\" height=\"500\"/>"
   ]
  },
  {
   "cell_type": "markdown",
   "metadata": {
    "slideshow": {
     "slide_type": "slide"
    }
   },
   "source": [
    "#### Nonequilibrium"
   ]
  },
  {
   "cell_type": "markdown",
   "metadata": {
    "slideshow": {
     "slide_type": "subslide"
    }
   },
   "source": [
    "<img src=\"./CCSS2024Fig/Figure1Mannion.jpg\" alt=\"drawing\" width=\"1500\" height=\"1500\"/>\n"
   ]
  },
  {
   "cell_type": "code",
   "execution_count": 21,
   "metadata": {
    "slideshow": {
     "slide_type": "subslide"
    }
   },
   "outputs": [
    {
     "data": {
      "text/html": [
       "<video src=\"./CCSS2024Fig/ContinentalDrift2.mp4\" controls  width=\"1058\"  height=\"508\">\n",
       "      Your browser does not support the <code>video</code> element.\n",
       "    </video>"
      ],
      "text/plain": [
       "<IPython.core.display.Video object>"
      ]
     },
     "execution_count": 21,
     "metadata": {},
     "output_type": "execute_result"
    }
   ],
   "source": [
    "from IPython.display import Video\n",
    "Video(\"./CCSS2024Fig/ContinentalDrift2.mp4\", width=1058, height=508)"
   ]
  },
  {
   "cell_type": "markdown",
   "metadata": {
    "slideshow": {
     "slide_type": "subslide"
    }
   },
   "source": [
    "<img src=\"./CCSS2024Fig/Figure5Mannion.jpg\" alt=\"drawing\" width=\"650\" height=\"650\"/>"
   ]
  },
  {
   "cell_type": "markdown",
   "metadata": {
    "slideshow": {
     "slide_type": "subslide"
    }
   },
   "source": [
    "<img src=\"./CCSS2024Fig/AR5.gif\" alt=\"drawing\" width=\"1500\" height=\"1500\"/>"
   ]
  },
  {
   "cell_type": "markdown",
   "metadata": {
    "slideshow": {
     "slide_type": "slide"
    }
   },
   "source": [
    "### Feedback"
   ]
  },
  {
   "cell_type": "markdown",
   "metadata": {
    "slideshow": {
     "slide_type": "subslide"
    }
   },
   "source": [
    "<img src=\"./CCSS2024Fig/nonequilibrium.png\" alt=\"drawing\" width=\"1250\" height=\"1250\"/>"
   ]
  },
  {
   "cell_type": "markdown",
   "metadata": {
    "slideshow": {
     "slide_type": "subslide"
    }
   },
   "source": [
    "<img src=\"./CCSS2024Fig/Figure1TraitArchitecture.png\" alt=\"drawing\" width=\"650\" height=\"650\"/>"
   ]
  },
  {
   "cell_type": "markdown",
   "metadata": {
    "slideshow": {
     "slide_type": "slide"
    }
   },
   "source": [
    "## Where are we gonna go "
   ]
  },
  {
   "cell_type": "markdown",
   "metadata": {
    "slideshow": {
     "slide_type": "subslide"
    }
   },
   "source": [
    "<img src=\"./CCSS2024Fig/trait_space.png\" alt=\"drawing\" width=\"500\" height=\"500\"/>"
   ]
  },
  {
   "cell_type": "markdown",
   "metadata": {
    "slideshow": {
     "slide_type": "subslide"
    }
   },
   "source": [
    "${\\bf \\Omega_{BAM}}$ = \n",
    "$\\begin{bmatrix} \n",
    "V_B & C_{BA} & C_{BM} \\\\ \n",
    "C_{AB} & V_A & C_{AM} \\\\ \n",
    "C_{MB} & C_{MA} & V_M  \n",
    "\\end{bmatrix}$\n",
    "\n",
    "\n",
    "$\\mathbf{W}({\\bf z})^{t}_{ix} = exp[-\\gamma({\\color{red}[{\\bf z}^{t}_{ix} - {\\bf \\theta^{t}}_{ix}\\color{red}]^T} {\\bf \\Omega_{BAM}}^{-1} {\\color{red}[{\\bf z}^{t}_{ix} - {\\bf \\theta^{t}}_{ix}\\color{red}]})]$\n",
    "\n",
    "    \n",
    "$\n",
    "\\underbrace{\\begin{bmatrix}\n",
    " W({\\bf z_{B}}^{t}_{ix})     \\\\\n",
    " W({\\bf z_{A}}^{t}_{ix})     \\\\\n",
    " \\vdots  \\\\\n",
    " W({\\bf z_{M}}^{t}_{ix})     \\\\\n",
    "            \\end{bmatrix}\n",
    "          }_{\\mathbf{W}}$\n",
    "           = $\\underbrace{\\begin{bmatrix}\n",
    " W({B}^{t}_{ix})^{*}     \\\\\n",
    " W({A}^{t}_{ix})^{*}     \\\\\n",
    " \\vdots  \\\\\n",
    " W({M}^{t}_{ix})^{*}     \\\\\n",
    "            \\end{bmatrix}^{T}\n",
    "             }_{\\mathbf{W}}$\n",
    "$\\underbrace{\\begin{bmatrix}\n",
    "V_{B}       &   C_{BA}       & \\dots     &   C_{BM}       \\\\\n",
    "C_{AB}       &   V_{A}       & \\dots     &   C_{AM}       \\\\\n",
    "\\vdots  &  \\vdots   &   \\vdots  &   \\vdots  \\\\   \n",
    "C_{MB}       &   C_{MA}      & \\dots     &   V_{M}       \\\\\n",
    "            \\end{bmatrix}^{-1}\n",
    "            }_{\\mathbf{\\Omega_{BAM}}}$\n",
    "$\\underbrace{\\begin{bmatrix}\n",
    "W({B}^{t}_{ix})^{*}     \\\\\n",
    "W({A}^{t}_{ix})^{*}     \\\\\n",
    "\\vdots  \\\\\n",
    "W({M}^{t}_{ix})^{*}     \\\\\n",
    "            \\end{bmatrix}\n",
    "             }_{\\mathbf{W}}$\n",
    "             \n"
   ]
  },
  {
   "cell_type": "markdown",
   "metadata": {
    "slideshow": {
     "slide_type": "subslide"
    }
   },
   "source": [
    "<img src=\"./CCSS2024Fig/Infiniteisolatedlayers.png\" alt=\"drawing\" width=\"2000\" height=\"2000\"/>"
   ]
  },
  {
   "cell_type": "markdown",
   "metadata": {
    "slideshow": {
     "slide_type": "subslide"
    }
   },
   "source": [
    "<img src=\"./CCSS2024Fig/Interlayer.png\" alt=\"drawing\" width=\"1200\" height=\"1200\"/>"
   ]
  },
  {
   "cell_type": "markdown",
   "metadata": {
    "slideshow": {
     "slide_type": "subslide"
    }
   },
   "source": [
    "<img src=\"./CCSS2024Fig/InterlayerStrong.png\" alt=\"drawing\" width=\"1200\" height=\"1200\"/>"
   ]
  },
  {
   "cell_type": "markdown",
   "metadata": {
    "slideshow": {
     "slide_type": "subslide"
    }
   },
   "source": [
    "<img src=\"./CCSS2024Fig/IntralayerStrong.png\" alt=\"drawing\" width=\"1200\" height=\"1200\"/>"
   ]
  },
  {
   "cell_type": "markdown",
   "metadata": {
    "slideshow": {
     "slide_type": "subslide"
    }
   },
   "source": [
    "\\begin{equation}\n",
    "{\\Large \\partial_t\\rho (\\bf{z},t) = -\\nabla_{\\bf{z}} \\big[\\nabla_{\\bf{z}} F(\\bf{z},\\bf{y_t})\\rho(\\bf{z,t})\\big]} \n",
    "{\\Large -r(\\bf{z},\\bf{y_t})\\rho(\\bf{z,t})} \\nonumber\n",
    "\\\\\n",
    "{\\Large+\\int_{\\Omega}\\int_{\\Omega}M(\\bf{z}|\\bf{z'},\\bf{z''})B(\\bf{z'},\\bf{z''})\\rho(\\bf{z'},t)\\rho(\\bf{z''},t)d^{d}\\bf{z'}d^{d}\\bf{z''}}\n",
    "\\end{equation}"
   ]
  },
  {
   "cell_type": "markdown",
   "metadata": {
    "slideshow": {
     "slide_type": "slide"
    }
   },
   "source": [
    "# Biodiversity organizational scale"
   ]
  },
  {
   "cell_type": "markdown",
   "metadata": {
    "slideshow": {
     "slide_type": "skip"
    }
   },
   "source": [
    "<img src=\"./CCSS2024Fig/multilayerfoodweb.jpeg\" alt=\"drawing\" width=\"650\" height=\"650\"/>"
   ]
  },
  {
   "cell_type": "markdown",
   "metadata": {
    "slideshow": {
     "slide_type": "subslide"
    }
   },
   "source": [
    "<img src=\"./CCSS2024Fig/in.png\" alt=\"drawing\" width=\"1000\" height=\"1000\"/>"
   ]
  },
  {
   "cell_type": "markdown",
   "metadata": {
    "slideshow": {
     "slide_type": "subslide"
    }
   },
   "source": [
    "<img src=\"./CCSS2024Fig/Figcometa.png-1.png\" alt=\"drawing\" width=\"1250\" height=\"1250\"/>"
   ]
  },
  {
   "cell_type": "markdown",
   "metadata": {
    "slideshow": {
     "slide_type": "slide"
    }
   },
   "source": [
    "# Route to Dimensionality"
   ]
  },
  {
   "cell_type": "markdown",
   "metadata": {
    "slideshow": {
     "slide_type": "subslide"
    }
   },
   "source": [
    "<img src=\"./CCSS2024Fig/GPmaps.png-1.png\" alt=\"drawing\" width=\"850\" height=\"850\"/>"
   ]
  },
  {
   "cell_type": "markdown",
   "metadata": {
    "slideshow": {
     "slide_type": "subslide"
    }
   },
   "source": [
    "<img src=\"./CCSS2024Fig/download.png\" alt=\"drawing\" width=\"800\" height=\"800\"/>"
   ]
  },
  {
   "cell_type": "markdown",
   "metadata": {
    "slideshow": {
     "slide_type": "skip"
    }
   },
   "source": [
    "<img src=\"./CCSS2024Fig/GPACovMat.jpg\" alt=\"drawing\" width=\"650\" height=\"650\"/>"
   ]
  },
  {
   "cell_type": "markdown",
   "metadata": {
    "slideshow": {
     "slide_type": "skip"
    }
   },
   "source": [
    "<img src=\"./CCSS2024Fig/Figure1.jpg\" alt=\"drawing\" width=\"950\" height=\"950\"/>"
   ]
  },
  {
   "cell_type": "markdown",
   "metadata": {
    "slideshow": {
     "slide_type": "subslide"
    }
   },
   "source": [
    " ### Complex traits: GPA\n",
    " \n",
    " \\begin{equation}\n",
    " {\\Large {z}^{i}_{j}}(x,t) = {\\Large {f}(\\bf{L})}(x,t), {\\Large {f}:\\mathbb{R}^{m} \\rightarrow \\mathbb{R}^{z}} \n",
    " \\end{equation}\n",
    "\n",
    "In this formulation, an individual’s $i$ phenotype in site $x$ and time $t$ is given by\n",
    "\n",
    "\\begin{equation}\n",
    "{\\Large \\bf{Z}^{i}}(x,t) = {\\Large {f}(\\bf{L}) = D[{f} (\\bf{L})] = \\bf{B} \\bf{Y}},\n",
    "\\end{equation}\n",
    "\n",
    "\n",
    "\\begin{equation}\n",
    "{\\Large \\bf{Z}^{i}}(x,t) = {\\Large \\bf{B}^{T} \\bf{E} \\bf{Y}}\n",
    "\\end{equation}\n",
    " "
   ]
  },
  {
   "cell_type": "markdown",
   "metadata": {
    "slideshow": {
     "slide_type": "subslide"
    }
   },
   "source": [
    "### Abiotic trait\n",
    "\n",
    "\\begin{equation}\n",
    "{\\Large D({z}^{i}_{a})}(x,t) = {\\Large \\lvert 0.5 - cdf(\\mathcal{N}(\\theta_{a}, \\sigma^2), z^{i}_{a}) \\lvert},\n",
    "\\end{equation}\n",
    "\n",
    "where $D({z}^{i}_{a})$ is the distance of abiotic trait of individual $i$ to its optimum, $\\theta_{a}$ is the optimal value used as the mean of a normal distribution, $\\sigma^{2}$ is the variance of the normal distribution, and $z^{i}_{a}$ is the value of the abiotic trait $i$ and $cdf$ is cumulative distribution function. The fitness of the abiotic trait of individual $i$ is then given by \n",
    "\n",
    "\\begin{equation}\n",
    "{\\Large W(z^{i}_{a})}(x,t) = {\\Large 1 - D({z}^{i}_{a})}(x,t)\n",
    "\\end{equation}"
   ]
  },
  {
   "cell_type": "markdown",
   "metadata": {
    "slideshow": {
     "slide_type": "subslide"
    }
   },
   "source": [
    "### Biotic trait\n",
    "\n",
    "\\begin{equation}\n",
    "{\\Large D({z}^{i}_{b} z^{j}_{b})}(x,t) = {\\Large \\lvert 0.5 - cdf(\\mathcal{N}(z^{i}_{b}, \\sigma^2), z^{j}_{b}) \\lvert}.\n",
    "\\end{equation}\n",
    "\n",
    "The strength of an interaction is a function of species-species coefficient and the phenotypic distance between the two individuals\n",
    "\n",
    "\\begin{equation}\n",
    "{\\Large s_{z^{i}_{b} z^{j}_{b}}}(x,t) = {\\Large (1 - D({z}^{i}_{b} z^{j}_{b})}(x,t)) \\times {\\Large \\lvert c_{z^{A}_{b} z^{B}_{b}} \\lvert} \\times {\\Large sign(c_{z^{A}_{b} z^{B}_{b}})}\n",
    "\\end{equation}"
   ]
  },
  {
   "cell_type": "markdown",
   "metadata": {
    "slideshow": {
     "slide_type": "subslide"
    }
   },
   "source": [
    "### Fitness\n",
    "\n",
    "\\begin{equation}\n",
    "{\\Large W({Z}^{i})}(x,t) = {\\Large W({z}^{i}_{a})}(x,t) + {\\Large s_{z^{i}_{b} z^{j}_{b}}}(x,t),\n",
    "\\end{equation}\n",
    "\n",
    "and the fitness function takes into account the selection coefficient as\n",
    "\n",
    "\\begin{equation}\n",
    "{\\Large W(Z^{i})}(x,t) = {\\Large 1 - ( (1 - W(Z^{i})(x,t)) \\times s_A)}\n",
    "\\end{equation}    "
   ]
  },
  {
   "cell_type": "markdown",
   "metadata": {
    "slideshow": {
     "slide_type": "subslide"
    }
   },
   "source": [
    "<img src=\"./CCSS2024Fig/heatmap.png-1.png\" alt=\"drawing\" width=\"600\" height=\"600\"/>"
   ]
  },
  {
   "cell_type": "markdown",
   "metadata": {
    "slideshow": {
     "slide_type": "subslide"
    }
   },
   "source": [
    "<img src=\"./CCSS2024Fig/Figure3Ext.jpg\" alt=\"drawing\" width=\"600\" height=\"600\"/>"
   ]
  },
  {
   "cell_type": "markdown",
   "metadata": {
    "slideshow": {
     "slide_type": "subslide"
    }
   },
   "source": [
    "<img src=\"./CCSS2024Fig/shannonIndex_regime_gen1001-1.png\" alt=\"drawing\" width=\"250\" height=\"250\"/>"
   ]
  },
  {
   "cell_type": "markdown",
   "metadata": {
    "slideshow": {
     "slide_type": "slide"
    }
   },
   "source": [
    "## Take home message\n",
    "\n",
    "##### Where are we now \n",
    "* gap in understanding bb-ba-ab-aa-interactions accounting for nonequilibrium and feedbacks at many spatiotemporal scales\n",
    "\n",
    "## Where are we gonna go \n",
    "* GPA connecting complex traits to biotic-abiotic feedbacks and diversity patterns\n",
    "* The route to dimensionality integrating BOS to feedbacks\n"
   ]
  }
 ],
 "metadata": {
  "@webio": {
   "lastCommId": null,
   "lastKernelId": null
  },
  "celltoolbar": "Slideshow",
  "kernelspec": {
   "display_name": "Python 3 (ipykernel)",
   "language": "python",
   "name": "python3"
  },
  "language_info": {
   "codemirror_mode": {
    "name": "ipython",
    "version": 3
   },
   "file_extension": ".py",
   "mimetype": "text/x-python",
   "name": "python",
   "nbconvert_exporter": "python",
   "pygments_lexer": "ipython3",
   "version": "3.11.2"
  }
 },
 "nbformat": 4,
 "nbformat_minor": 2
}
