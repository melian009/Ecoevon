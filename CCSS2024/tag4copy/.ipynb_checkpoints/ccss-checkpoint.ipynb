{
 "cells": [
  {
   "cell_type": "markdown",
   "metadata": {
    "slideshow": {
     "slide_type": "slide"
    }
   },
   "source": [
    "# Dynamics of feedbacks in nonequilibrium biodiversity organizational scale\n",
    "    \n",
    "--------------------------------------------------------\n",
    "#### https://github.com/melian009/Ecoevon/tree/master/CCSS2024 "
   ]
  },
  {
   "cell_type": "markdown",
   "metadata": {
    "slideshow": {
     "slide_type": "subslide"
    }
   },
   "source": [
    "### References \n",
    "\n",
    "* Rainey, P., Travisano, M. (1998). Adaptive radiation in a heterogeneous environment. Nature 394:69–72.\n",
    "* Kleidon, A. (2010). Non-equilibrium thermodynamics, maximum entropy production and Earth-system evolution. Philo. Trans. Math., Phys., and Eng. Sciences, 368:181-196.\n",
    "* Melo and Marroig (2015). Directional selection can drive the evolution of modularity in complex traits. PNAS, 112:470-475.\n",
    "* Goswami et al (2015). The fossil record of phenotypic integration and modularity: A deep-time perspective on developmental and evolutionary dynamics. PNAS, 112:4891-4896.\n",
    "* Laughlin D.C., and Messier J. (2015). Fitness of multidimensional phenotypes in dynamic adaptive landscapes. TREE, 30:487-496.\n",
    "* Barros, C. et al. (2016). N‐dimensional hypervolumes to study stability of complex ecosystems. Ecol. Lett., 19:729–742.\n",
    "* Boyle et al. (2017). An Expanded View of Complex Traits: From Polygenic to Omnigenic. Cell. 169:1177-1186.\n",
    "* Melián et al. (2018). Deciphering the interdependence between ecological and evolutionary networks. TREE, 33:504-512."
   ]
  },
  {
   "cell_type": "markdown",
   "metadata": {
    "slideshow": {
     "slide_type": "slide"
    }
   },
   "source": [
    "##### Where are we now \n",
    "#### Where are we gonna go \n",
    "### Feedbacks\n",
    "## Nonequilibrium\n",
    "# Route to dimensionality\n",
    "# Organizational scale"
   ]
  },
  {
   "attachments": {},
   "cell_type": "markdown",
   "metadata": {
    "slideshow": {
     "slide_type": "slide"
    }
   },
   "source": [
    "<img src=\"Figure1Mannion.jpg\" alt=\"drawing\" width=\"1250\" height=\"1250\"/>\n"
   ]
  },
  {
   "cell_type": "markdown",
   "metadata": {
    "slideshow": {
     "slide_type": "slide"
    }
   },
   "source": [
    "<img src=\"GPmaps.png-1.png\" alt=\"drawing\" width=\"850\" height=\"850\"/>"
   ]
  },
  {
   "cell_type": "markdown",
   "metadata": {
    "slideshow": {
     "slide_type": "slide"
    }
   },
   "source": [
    "### Nonequilibrium\n",
    "<img src=\"nonequilibrium.png\" alt=\"drawing\" width=\"650\" height=\"650\"/>"
   ]
  },
  {
   "cell_type": "code",
   "execution_count": null,
   "metadata": {
    "slideshow": {
     "slide_type": "slide"
    }
   },
   "outputs": [],
   "source": [
    "#Route to dimensionality \n",
    "\n",
    "\n"
   ]
  },
  {
   "cell_type": "markdown",
   "metadata": {
    "slideshow": {
     "slide_type": "slide"
    }
   },
   "source": [
    "### Biodiversity organizational scale\n",
    "<img src=\"Figcometa.png-1.png\" alt=\"drawing\" width=\"750\" height=\"750\"/>"
   ]
  },
  {
   "cell_type": "markdown",
   "metadata": {
    "slideshow": {
     "slide_type": "slide"
    }
   },
   "source": [
    "<img src=\"GPACovMat.jpg\" alt=\"drawing\" width=\"650\" height=\"650\"/>"
   ]
  },
  {
   "cell_type": "markdown",
   "metadata": {
    "slideshow": {
     "slide_type": "slide"
    }
   },
   "source": [
    "<img src=\"Figure1.jpg\" alt=\"drawing\" width=\"450\" height=\"450\"/>"
   ]
  },
  {
   "cell_type": "markdown",
   "metadata": {
    "slideshow": {
     "slide_type": "slide"
    }
   },
   "source": [
    "### Quantitative genetics\n",
    "<img src=\"download.png\" alt=\"drawing\" width=\"800\" height=\"800\"/>"
   ]
  },
  {
   "cell_type": "markdown",
   "metadata": {
    "slideshow": {
     "slide_type": "slide"
    }
   },
   "source": [
    "### Quantitative genetics \n",
    "\n",
    "${\\bf \\Omega_{BAM}}$ = \n",
    "$\\begin{bmatrix} \n",
    "V_B & C_{BA} & C_{BM} \\\\ \n",
    "C_{AB} & V_A & C_{AM} \\\\ \n",
    "C_{MB} & C_{MA} & V_M  \n",
    "\\end{bmatrix}$\n",
    "\n",
    "\n",
    "$\\mathbf{W}({\\bf z})^{t}_{ix} = exp[-\\gamma({\\color{red}[{\\bf z}^{t}_{ix} - {\\bf \\theta^{t}}_{ix}\\color{red}]^T} {\\bf \\Omega_{BAM}}^{-1} {\\color{red}[{\\bf z}^{t}_{ix} - {\\bf \\theta^{t}}_{ix}\\color{red}]})]$\n",
    "\n",
    "    \n",
    "$\n",
    "\\underbrace{\\begin{bmatrix}\n",
    " W({\\bf z_{B}}^{t}_{ix})     \\\\\n",
    " W({\\bf z_{A}}^{t}_{ix})     \\\\\n",
    " \\vdots  \\\\\n",
    " W({\\bf z_{M}}^{t}_{ix})     \\\\\n",
    "            \\end{bmatrix}\n",
    "          }_{\\mathbf{W}}$\n",
    "           = $\\underbrace{\\begin{bmatrix}\n",
    " W({B}^{t}_{ix})^{*}     \\\\\n",
    " W({A}^{t}_{ix})^{*}     \\\\\n",
    " \\vdots  \\\\\n",
    " W({M}^{t}_{ix})^{*}     \\\\\n",
    "            \\end{bmatrix}^{T}\n",
    "             }_{\\mathbf{W}}$\n",
    "$\\underbrace{\\begin{bmatrix}\n",
    "V_{B}       &   C_{BA}       & \\dots     &   C_{BM}       \\\\\n",
    "C_{AB}       &   V_{A}       & \\dots     &   C_{AM}       \\\\\n",
    "\\vdots  &  \\vdots   &   \\vdots  &   \\vdots  \\\\   \n",
    "C_{MB}       &   C_{MA}      & \\dots     &   V_{M}       \\\\\n",
    "            \\end{bmatrix}^{-1}\n",
    "            }_{\\mathbf{\\Omega_{BAM}}}$\n",
    "$\\underbrace{\\begin{bmatrix}\n",
    "W({B}^{t}_{ix})^{*}     \\\\\n",
    "W({A}^{t}_{ix})^{*}     \\\\\n",
    "\\vdots  \\\\\n",
    "W({M}^{t}_{ix})^{*}     \\\\\n",
    "            \\end{bmatrix}\n",
    "             }_{\\mathbf{W}}$"
   ]
  },
  {
   "cell_type": "markdown",
   "metadata": {
    "slideshow": {
     "slide_type": "slide"
    }
   },
   "source": [
    "<img src=\"trait_space.png\" alt=\"drawing\" width=\"500\" height=\"500\"/>"
   ]
  },
  {
   "cell_type": "markdown",
   "metadata": {
    "slideshow": {
     "slide_type": "slide"
    }
   },
   "source": [
    "### Nonequilibrium \n",
    "\n",
    "\\begin{equation}\n",
    "{\\Large \\partial_t\\rho (\\bf{z},t) = -\\nabla_{\\bf{z}} \\big[\\nabla_{\\bf{z}} F(\\bf{z},\\bf{y_t})\\rho(\\bf{z,t})\\big]} \n",
    "{\\Large -r(\\bf{z},\\bf{y_t})\\rho(\\bf{z,t})} \\nonumber\n",
    "\\\\\n",
    "{\\Large+\\int_{\\Omega}\\int_{\\Omega}M(\\bf{z}|\\bf{z'},\\bf{z''})B(\\bf{z'},\\bf{z''})\\rho(\\bf{z'},t)\\rho(\\bf{z''},t)d^{d}\\bf{z'}d^{d}\\bf{z''}}\n",
    "\\end{equation}"
   ]
  },
  {
   "cell_type": "markdown",
   "metadata": {
    "slideshow": {
     "slide_type": "slide"
    }
   },
   "source": [
    " ### Complex traits: GPA\n",
    " \n",
    " \\begin{equation}\n",
    " {\\Large \\bf{z}_{j} = {f}(\\bf{L}), {f}:\\mathbb{R}^{m} \\rightarrow \\mathbb{R}^{z}} \n",
    " \\end{equation}\n",
    "\n",
    "\n",
    "\\begin{equation}\n",
    "{\\Large \\bf{Z} = {f}(\\bf{L}) = D[{f}(L)]=\\bf{B}\\bf{Y}},\n",
    "\\end{equation}\n",
    "\n",
    "In this formulation, an individual’s phenotype is given by the vector $\\bf{Z}$\n",
    "\n",
    "\\begin{equation}\n",
    "{\\Large \\bf{Z} = \\bf{B}^{T} \\bf{E}  \\bf{Y}}\n",
    "\\end{equation}\n",
    " "
   ]
  },
  {
   "cell_type": "markdown",
   "metadata": {
    "slideshow": {
     "slide_type": "slide"
    }
   },
   "source": [
    "### Abiotic trait\n",
    "\n",
    "\\begin{equation}\n",
    "{\\Large D(z_{ia}) = \\lvert 0.5 - cdf(\\mathcal{N}(\\theta_{a}, \\sigma^2), z_{ia}) \\lvert},\n",
    "\\end{equation}\n",
    "\n",
    "where $D(z_{ia})$ is the distance of abiotic trait of individual $i$ to its optimum, $\\theta_{a}$ is the optimal value used as the mean of a normal distribution, $\\sigma^{2}$ is the variance of the normal distribution, and $z_{ia}$ is the value of the abiotic trait $i$ and $cdf$ is cumulative distribution function. The fitness of the abiotic trait of individual $i$ is then given by \n",
    "\n",
    "\\begin{equation}\n",
    "{\\Large W(z_{ia}) = 1 - D(z_{ia})}\n",
    "\\end{equation}"
   ]
  },
  {
   "cell_type": "markdown",
   "metadata": {
    "slideshow": {
     "slide_type": "slide"
    }
   },
   "source": [
    "### Biotic trait\n",
    "\n",
    "\\begin{equation}\n",
    "{\\Large D_{z_{ib} z_{jb}} = \\lvert 0.5 - cdf(\\mathcal{N}(z_{ib}, \\sigma^2), z_{jb}) \\lvert}\n",
    "\\end{equation}\n",
    "\n",
    "The strength of an interaction is a function of species-species coefficient and the phenotypic distance between the two individuals\n",
    "\n",
    "\\begin{equation}\n",
    "{\\Large s_{z_{ib} z_{jb}} = (1 - D_{z_{ib} z_{jb}}) \\times \\lvert c_{z_{xb} z_{yb}} \\lvert \\times sign(c_{z_{xb} z_{yb}})}\n",
    "\\end{equation}"
   ]
  },
  {
   "cell_type": "markdown",
   "metadata": {
    "slideshow": {
     "slide_type": "slide"
    }
   },
   "source": [
    "### Fitness\n",
    "\n",
    "\\begin{equation}\n",
    "{\\Large W_{Z_{i}} = W_{z_{ia}} + s_{z_{ib} z_{jb}}},\n",
    "\\end{equation}\n",
    "\n",
    "and the fitness function takes into account the selection coefficient as\n",
    "\n",
    "\\begin{equation}\n",
    "{\\Large W_{Z_{i}} = 1 - ( (1 - W_{Z_{i}}) \\times s_x)}\n",
    "\\end{equation}    "
   ]
  },
  {
   "cell_type": "markdown",
   "metadata": {
    "slideshow": {
     "slide_type": "slide"
    }
   },
   "source": [
    "### We can now explore the connection between the GPA and diversity patterns "
   ]
  },
  {
   "cell_type": "markdown",
   "metadata": {
    "slideshow": {
     "slide_type": "slide"
    }
   },
   "source": [
    "<img src=\"heatmap.png-1.png\" alt=\"drawing\" width=\"600\" height=\"600\"/>"
   ]
  },
  {
   "cell_type": "markdown",
   "metadata": {
    "slideshow": {
     "slide_type": "slide"
    }
   },
   "source": [
    "<img src=\"Figure3Ext.jpg\" alt=\"drawing\" width=\"600\" height=\"600\"/>"
   ]
  },
  {
   "cell_type": "markdown",
   "metadata": {
    "slideshow": {
     "slide_type": "slide"
    }
   },
   "source": [
    "<img src=\"shannonIndex_regime_gen1001-1.png\" alt=\"drawing\" width=\"250\" height=\"250\"/>"
   ]
  },
  {
   "cell_type": "markdown",
   "metadata": {
    "slideshow": {
     "slide_type": "slide"
    }
   },
   "source": [
    "## Take home message\n",
    "\n",
    "* GPA connects pleiotropy, epistasis and gene regulation to the covariance matrix allowing to explore the connection between GPA-migration-mutation-recombination to diversification and diversity patterns \n",
    "\n",
    "* GPA with correlated traits impose constraints to coexistence -- integrated trait architecture decreases resource-consumer coexistence along migration and interaction strength gradients\n",
    "\n",
    "* Next test: GPA to diversification accounting for mating schemes"
   ]
  }
 ],
 "metadata": {
  "@webio": {
   "lastCommId": null,
   "lastKernelId": null
  },
  "celltoolbar": "Slideshow",
  "kernelspec": {
   "display_name": "Python 3 (ipykernel)",
   "language": "python",
   "name": "python3"
  },
  "language_info": {
   "codemirror_mode": {
    "name": "ipython",
    "version": 3
   },
   "file_extension": ".py",
   "mimetype": "text/x-python",
   "name": "python",
   "nbconvert_exporter": "python",
   "pygments_lexer": "ipython3",
   "version": "3.11.2"
  }
 },
 "nbformat": 4,
 "nbformat_minor": 2
}
