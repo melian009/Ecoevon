{
 "cells": [
  {
   "cell_type": "markdown",
   "metadata": {
    "slideshow": {
     "slide_type": "slide"
    }
   },
   "source": [
    "<font size=\"5\">\n",
    "\n",
    "### Trait architecture and coexistence in spatially-explicit food webs\n",
    "<font size=\"3\">\n",
    "    \n",
    "--------------------------------------------------------\n",
    "Carlos J. Melián, EAWAG, ETH-Domain\n",
    "    \n",
    "\n",
    "Spillover effects of natural enemies on heterogeneous landscapes\n",
    "\n",
    "Estación Experimental de Zonas Áridas, CSIC (Almería, Spain), $9^{th}$ June 2023\n",
    "### Download from https://github.com/melian009/Diversa.git\n",
    "--------------------------------------------------------\n",
    "   "
   ]
  },
  {
   "cell_type": "markdown",
   "metadata": {
    "slideshow": {
     "slide_type": "subslide"
    }
   },
   "source": [
    "\n",
    "\n",
    "<img src=\"figures/collaboratorsnew2.png\" alt=\"drawing\" width=\"800\"/>"
   ]
  },
  {
   "cell_type": "markdown",
   "metadata": {
    "slideshow": {
     "slide_type": "subslide"
    }
   },
   "source": [
    "# Outline\n",
    "# What is trait-architecture? \n",
    "## Does it affect food web dynamics?\n",
    "### How does trait-architecture and habitat boundaries affect spatial dynamics?\n",
    "#### A synthesis for a food web theory from individual complexity to ecosystem functions?"
   ]
  },
  {
   "cell_type": "markdown",
   "metadata": {
    "slideshow": {
     "slide_type": "subslide"
    }
   },
   "source": [
    "### References \n",
    "\n",
    "#### What is a species?\n",
    "* Mayr, E. (1942). Systematics and the origin of species from the viewpoint of a zoologist. New York: Columbia University Press.\n",
    "* Higgs PG, Derrida B (1992) Genetic distance and species formation in evolving populations. J. Mol. Evol., 35:454–465."
   ]
  },
  {
   "cell_type": "markdown",
   "metadata": {
    "slideshow": {
     "slide_type": "subslide"
    }
   },
   "source": [
    "#### Do the tropics produce more species?\n",
    "\n",
    "* Brown, J. (2014). Why are there so many species in the tropics? J. of Biogeography, 41:8-22  \n",
    "* Mannion, P. D., et al (2014). The latitudinal biodiversity gradient through deep time. TREE, 29:42-50.\n",
    "* Leprieur, F. et al. (2016). Plate tectonics drive tropical reef biodiversity dynamics. Nature Communications, 7:1-8       "
   ]
  },
  {
   "cell_type": "markdown",
   "metadata": {
    "slideshow": {
     "slide_type": "subslide"
    }
   },
   "source": [
    "\n",
    "#### Why are there some lineages with many species while others have just a few?\n",
    "\n",
    "* Davies, TJ, Allen, AP, Borda‐de‐Água, L, Regetz, J, and Melián CJ (2011). Neutral biodiversity theory can explain the imbalance of phylogenetic trees but not the tempo of their diversification. Evolution 65:1841-1850.\n",
    "* Wagner, C. E. (2012). Ecological opportunity and sexual selection together predict adaptive radiation. Nature, 487:366-369.    \n"
   ]
  },
  {
   "cell_type": "markdown",
   "metadata": {
    "slideshow": {
     "slide_type": "subslide"
    }
   },
   "source": [
    "\n",
    "#### How do diversification and coexistence connect each other in complex ecosystems?\n",
    "\n",
    "* Brown, W. L. Jr. (1957). Centrifugal Speciation. The Quarterly Review of Biology, 32:247-277.\n",
    "* Melián CJ, Alonso D, Vázquez DP, Regetz J, and Allesina S (2010) Frequency-Dependent Selection Predicts Patterns of Radiations and Biodiversity. PLOS Comput. Biol., 6:e1000892. \n",
    "* Melián CJ, Alonso D, Allesina S, Condit RS, and Etienne RS (2012) Does Sex Speed Up Evolutionary Rate and Increase Biodiversity?. PLOS Comput. Biol., 8:e1002414.\n",
    "* Melián CJ, Seehausen O, Eguíluz VM, Fortuna MA, and Deiner K (2015). Diversification and biodiversity dynamics of hot and cold spots. Ecography, 38:393-401. \n",
    "* Encinas, F, Etienne R, and Melián CJ (2022). Eco-evolutionary diversification of trait convergence and complementarity in mutualistic networks (In prep.) "
   ]
  },
  {
   "cell_type": "markdown",
   "metadata": {
    "slideshow": {
     "slide_type": "subslide"
    }
   },
   "source": [
    "#### How does the next unifying diversification theory look like?\n",
    "\n",
    "* Marques, DA, Meier, JI and Seehausen O. (2019). A combinatorial view on speciation and adaptive radiation. Trends in ecology and evolution 34:531-544    "
   ]
  },
  {
   "cell_type": "markdown",
   "metadata": {
    "slideshow": {
     "slide_type": "slide"
    }
   },
   "source": [
    "\n",
    "\n",
    "# What is a trait-architecture? \n",
    "\n"
   ]
  },
  {
   "cell_type": "markdown",
   "metadata": {
    "slideshow": {
     "slide_type": "subslide"
    }
   },
   "source": [
    "### Trait boundaries\n",
    "\n",
    "![title](figures/ikeko.gif)"
   ]
  },
  {
   "cell_type": "markdown",
   "metadata": {
    "slideshow": {
     "slide_type": "subslide"
    }
   },
   "source": [
    "                                           ### Experimental evolution\n",
    "<img src=\"figures/adaptiveradiation.png\" alt=\"drawing\" width=\"300\"/>"
   ]
  },
  {
   "cell_type": "markdown",
   "metadata": {
    "slideshow": {
     "slide_type": "slide"
    }
   },
   "source": [
    "### What if DNA, genomic processes, development, gene expression, behavior, sexual selection all embedded in complex trait architectures combine with external factors to produce a set of interacting layers challenging any attempt to build a solid diversification and biodiversity theory?\n"
   ]
  },
  {
   "cell_type": "markdown",
   "metadata": {
    "slideshow": {
     "slide_type": "subslide"
    }
   },
   "source": [
    "<img src=\"figures/IntegrationGradient.png\" alt=\"drawing\" width=\"900\"/>"
   ]
  },
  {
   "cell_type": "markdown",
   "metadata": {
    "slideshow": {
     "slide_type": "subslide"
    }
   },
   "source": [
    "<img src=\"figures/EltoGriHutNiche.png\" alt=\"drawing\" width=\"900\"/>"
   ]
  },
  {
   "attachments": {},
   "cell_type": "markdown",
   "metadata": {
    "slideshow": {
     "slide_type": "slide"
    }
   },
   "source": [
    "<img src=\"figures/correlationtraits.png\" alt=\"drawing\" width=\"900\"/>"
   ]
  },
  {
   "cell_type": "markdown",
   "metadata": {
    "slideshow": {
     "slide_type": "subslide"
    }
   },
   "source": [
    "<img src=\"figures/BAM.png\" alt=\"drawing\" width=\"900\"/>"
   ]
  },
  {
   "cell_type": "markdown",
   "metadata": {
    "slideshow": {
     "slide_type": "subslide"
    }
   },
   "source": [
    "<img src=\"figures/Heatmap.png\" alt=\"drawing\" width=\"900\"/>"
   ]
  },
  {
   "cell_type": "markdown",
   "metadata": {
    "slideshow": {
     "slide_type": "skip"
    }
   },
   "source": [
    "<img src=\"figures/Fig2cometa.png\" alt=\"drawing\" width=\"1100\"/>"
   ]
  },
  {
   "cell_type": "markdown",
   "metadata": {
    "slideshow": {
     "slide_type": "subslide"
    }
   },
   "source": [
    "<img src=\"figures/Heatmap.pdf.png-1.png\" alt=\"drawing\" width=\"900\"/>"
   ]
  },
  {
   "cell_type": "markdown",
   "metadata": {
    "slideshow": {
     "slide_type": "skip"
    }
   },
   "source": [
    "# A synthesis for a diversification theory?"
   ]
  },
  {
   "cell_type": "markdown",
   "metadata": {
    "slideshow": {
     "slide_type": "skip"
    }
   },
   "source": [
    "\n",
    "<img src=\"figures/combinatorial.png\" alt=\"drawing\" width=\"600\"/> "
   ]
  },
  {
   "cell_type": "markdown",
   "metadata": {
    "slideshow": {
     "slide_type": "slide"
    }
   },
   "source": [
    "## Take home message\n",
    "\n",
    "* Speciation is a complex process -- physical, chemical and biological processes drive the divergence of new genotype-phenotype maps and complex trait architectures along a sequence of diversification stages\n",
    "\n",
    "* External and internal factors combine to produce heterogeneous diversification patterns in space and time. A diversification theory connecting the two is currently missing\n",
    "\n",
    "* Toy models useful to understand basic diversification processes -- current data suggest systems biology, genomics, phenomes, and fluctuating environments and landscapes all together are needed to connect micro to macro diversification and biodiversity patterns "
   ]
  }
 ],
 "metadata": {
  "@webio": {
   "lastCommId": null,
   "lastKernelId": null
  },
  "celltoolbar": "Slideshow",
  "kernelspec": {
   "display_name": "Python 3 (ipykernel)",
   "language": "python",
   "name": "python3"
  },
  "language_info": {
   "codemirror_mode": {
    "name": "ipython",
    "version": 3
   },
   "file_extension": ".py",
   "mimetype": "text/x-python",
   "name": "python",
   "nbconvert_exporter": "python",
   "pygments_lexer": "ipython3",
   "version": "3.10.6"
  }
 },
 "nbformat": 4,
 "nbformat_minor": 2
}
