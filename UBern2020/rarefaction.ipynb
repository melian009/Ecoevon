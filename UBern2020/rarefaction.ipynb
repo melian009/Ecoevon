{
 "cells": [
  {
   "cell_type": "markdown",
   "metadata": {
    "slideshow": {
     "slide_type": "slide"
    }
   },
   "source": [
    "\n",
    "\n",
    "# Rarefaction in ecology\n",
    "\n",
    "### U. Bern Introduction to Literature Analysis     Nov 6, 2020"
   ]
  },
  {
   "cell_type": "code",
   "execution_count": null,
   "metadata": {
    "slideshow": {
     "slide_type": "slide"
    }
   },
   "outputs": [],
   "source": [
    "## How many species are there? Compare species richness among sets with different sample size instead of comparing absolute number of species¶\n",
    "###### Sanders, Howard L. \"Marine Benthic Diversity: A Comparative Study\". (1968). The American Naturalist. 102 (925): 243. doi:10.1086/282541\n"
   ]
  },
  {
   "cell_type": "markdown",
   "metadata": {
    "slideshow": {
     "slide_type": "subslide"
    }
   },
   "source": [
    "## Basic features of Jupyter notebook for reproducibility and team work\n",
    "\n",
    "####  1. Reproducibility life cycle\n",
    "\n",
    "<img src=\"/figures/journal.pcbi.1007007.g001.png\" alt=\"drawing\" width=\"400\"/>\n",
    "\n",
    "#### Rule et al., (2019). Ten simple rules for writing and sharing computational analyses in Jupyter Notebooks. PLoS Comput. Biol. https://doi.org/10.1371/journal.pcbi.1007007\n",
    "  "
   ]
  },
  {
   "cell_type": "markdown",
   "metadata": {
    "slideshow": {
     "slide_type": "subslide"
    }
   },
   "source": [
    "#### 2. Computational cost  https://julialang.org/benchmarks/\n",
    "\n",
    "![title](matcheat_julia_benchmark.png)"
   ]
  },
  {
   "cell_type": "code",
   "execution_count": 3,
   "metadata": {
    "slideshow": {
     "slide_type": "subslide"
    }
   },
   "outputs": [
    {
     "name": "stdout",
     "output_type": "stream",
     "text": [
      "1.13.1\n"
     ]
    }
   ],
   "source": [
    "#Practice with pandas python kaggle example for using wget\n",
    "import pandas as pd\n",
    "import numpy as np\n",
    "import matplotlib.pyplot as plt\n",
    "import seaborn as sns\n",
    "import tensorflow as tf\n",
    "print(tf.__version__)"
   ]
  },
  {
   "cell_type": "markdown",
   "metadata": {
    "slideshow": {
     "slide_type": "slide"
    }
   },
   "source": [
    "## Running r, Octave, and Julia kernels in the same notebook\n",
    "\n",
    "\n",
    "-------------------------------------------\n",
    "#### 1. Linux OS -- r \n",
    "\n",
    "$$$ pip install jupyter\n",
    "$ sudo apt install r-cran-littler\n",
    "$ R (open R in terminal)\n",
    "> install.packages(c('repr', 'IRdisplay', 'evaluate', 'crayon', 'pbdZMQ', 'devtools', 'uuid', 'digest'))\n",
    "> install.packages('IRkernel') ### https://github.com/IRkernel/IRkernel\n",
    "> IRkernel::installspec() ### to register the kernel in the current R installation$$"
   ]
  },
  {
   "cell_type": "markdown",
   "metadata": {
    "slideshow": {
     "slide_type": "subslide"
    }
   },
   "source": [
    "#### 2. Linux OS -- Julia\n",
    "\n",
    "$$$ pip install jupyter\n",
    "#### https://en.wikibooks.org/wiki/Introducing_Julia/Getting_started#Installing_from_package_2\n",
    "$ Julia (Open Julia in terminal)\n",
    "julia> using Pkg\n",
    "julia> Pkg.add(\"IJulia\")\n",
    "#### More info https://julialang.org/downloads/$$"
   ]
  },
  {
   "cell_type": "markdown",
   "metadata": {
    "slideshow": {
     "slide_type": "subslide"
    }
   },
   "source": [
    "#### 3. Linux OS -- Octave (Matlab)\n",
    "\n",
    "$$$ pip install jupyter\n",
    "$ sudo apt install flatpak\n",
    "$ flatpak install flathub org.octave.Octave \n",
    "$ pip install octave_kernel\n",
    "$ Octave (run octave in terminal)\n",
    "#### More info https://www.gnu.org/software/octave/download.html$$"
   ]
  },
  {
   "cell_type": "code",
   "execution_count": 5,
   "metadata": {
    "slideshow": {
     "slide_type": "subslide"
    }
   },
   "outputs": [],
   "source": [
    "#https://www.endtoend.ai/tutorial/how-to-download-kaggle-datasets-on-ubuntu/\n",
    "#https://www.kaggle.com/notebooks == as example for https://drive.switch.ch/ \n",
    "#!wget -o airbnb.csv https://www.kaggle.com/dgomonov/new-york-city-airbnb-open-data?select=AB_NYC_2019.csv"
   ]
  },
  {
   "cell_type": "markdown",
   "metadata": {
    "slideshow": {
     "slide_type": "subslide"
    }
   },
   "source": [
    "\n",
    "## Cheatsheet to visualize Jupyter multiple language feature \n",
    "\n",
    "### https://sebastianraschka.com/blog/2014/matrix_cheatsheet_table.html\n",
    "\n",
    "![title](matrix_cheatsheet.png)"
   ]
  },
  {
   "cell_type": "code",
   "execution_count": 1,
   "metadata": {
    "slideshow": {
     "slide_type": "subslide"
    }
   },
   "outputs": [
    {
     "data": {
      "text/html": [
       "<table>\n",
       "<caption>A matrix: 2 × 3 of type dbl</caption>\n",
       "<tbody>\n",
       "\t<tr><td>2</td><td>4</td><td>3</td></tr>\n",
       "\t<tr><td>1</td><td>5</td><td>7</td></tr>\n",
       "</tbody>\n",
       "</table>\n"
      ],
      "text/latex": [
       "A matrix: 2 × 3 of type dbl\n",
       "\\begin{tabular}{lll}\n",
       "\t 2 & 4 & 3\\\\\n",
       "\t 1 & 5 & 7\\\\\n",
       "\\end{tabular}\n"
      ],
      "text/markdown": [
       "\n",
       "A matrix: 2 × 3 of type dbl\n",
       "\n",
       "| 2 | 4 | 3 |\n",
       "| 1 | 5 | 7 |\n",
       "\n"
      ],
      "text/plain": [
       "     [,1] [,2] [,3]\n",
       "[1,] 2    4    3   \n",
       "[2,] 1    5    7   "
      ]
     },
     "metadata": {},
     "output_type": "display_data"
    }
   ],
   "source": [
    "# r example\n",
    "\n",
    "# the data elements \n",
    "# number of rows\n",
    "# number of columns\n",
    "# fill matrix by rows\n",
    "\n",
    "A = matrix(c(2, 4, 3, 1, 5, 7),nrow=2,ncol=3,byrow = TRUE)        \n",
    "\n",
    "\n",
    "A"
   ]
  },
  {
   "cell_type": "code",
   "execution_count": 1,
   "metadata": {
    "slideshow": {
     "slide_type": "subslide"
    }
   },
   "outputs": [
    {
     "data": {
      "text/plain": [
       "3×3 Array{Int64,2}:\n",
       " 1  2  3\n",
       " 4  5  6\n",
       " 7  8  9"
      ]
     },
     "execution_count": 1,
     "metadata": {},
     "output_type": "execute_result"
    }
   ],
   "source": [
    "# Julia example\n",
    "A=[1 2 3; 4 5 6; 7 8 9]\n"
   ]
  },
  {
   "cell_type": "code",
   "execution_count": 1,
   "metadata": {
    "slideshow": {
     "slide_type": "subslide"
    }
   },
   "outputs": [
    {
     "name": "stdout",
     "output_type": "stream",
     "text": [
      "A =\n",
      "\n",
      "   1   2   3\n",
      "   4   5   6\n",
      "   7   8   9\n",
      "\n"
     ]
    }
   ],
   "source": [
    "# Octave/Matlab example\n",
    "A = [1 2 3; 4 5 6; 7 8 9]\n"
   ]
  },
  {
   "cell_type": "code",
   "execution_count": null,
   "metadata": {
    "slideshow": {
     "slide_type": "slide"
    }
   },
   "outputs": [],
   "source": [
    "## Porcupine data  (r example)"
   ]
  },
  {
   "cell_type": "code",
   "execution_count": null,
   "metadata": {
    "slideshow": {
     "slide_type": "slide"
    }
   },
   "outputs": [],
   "source": [
    "## Global Map\n",
    "### Species-sampling effort curves\n",
    "#### Hill numbers \n",
    "\n",
    "\n",
    "setwd(\"C:/Paco/GitHub/Tempo/Code/R\")\n",
    "dir()\n",
    "\n",
    "library(icesDatras)\n",
    "library(mapdata)\n",
    "library(maptools)\n",
    "library(RODBC)\n",
    "library(maps)\n",
    "library(rgdal)\n",
    "library(dplyr)\n",
    "library(marmap)\n",
    "\n",
    "lon1 <- -44\n",
    "lon2 <-  33\n",
    "lat1 <-  34\n",
    "lat2 <-  77\n",
    "\n",
    "NOAAbathy <- getNOAA.bathy(lon1,lon2,lat1,lat2,resolution=10)\n",
    "\n",
    "ices.div<-readOGR(\"C:/Paco/QGIS/Vectors/ICES/ices_div.dbf\",\"ices_div\",verbose = F)\n",
    "\n",
    "HHc <- read.csv(\"C:/Paco/03_IEO/Proyectos/40_MADARIAGA/DATRAS_Data/HH/HHc.csv\")\n",
    "\n",
    "windows(16,15)\n",
    "\n",
    "maps::map(database = \"worldHires\", xlim = c(lon1, lon2), ylim = c(lat1,lat2), type =\"n\")\n",
    "plot(NOAAbathy, n=30, add=T,col=gray(.85),lwd=.1)\n",
    "grid(col=gray(.8),lwd=.5)\n",
    "plot(ices.div,add=T,col=NA,border=\"burlywood\")\n",
    "maps::map(database = \"worldHires\", xlim = c(lon1, lon2), ylim = c(lat1,lat2), fill=T,col=\"gray\",add=T)\n",
    "axis(2, at=seq(35,75,by=5), labels=abs(seq(35,75,by=5)), cex.axis=.7, tck=-.01, mgp=c(2,.5,0))\n",
    "axis(1, at=seq(-40,30,by=5), labels=abs(seq(-40,30,by=5)), cex.axis=.7, tck=-.01, mgp=c(2,.3,0))\n",
    "axis(3, at=seq(-40,30,by=5), labels=abs(seq(-40,30,by=5)), cex.axis=.7, tck=-.01, mgp=c(2,.5,0))\n",
    "axis(4, at=seq(35,75,by=5), labels=abs(seq(35,75,by=5)), cex.axis=.7, tck=-.01, mgp=c(2,.3,0))\n",
    "box()\n",
    "points(x=HHc$ShootLong, y=HHc$ShootLat, cex = 0.05, col = 2)\n",
    "title(main = \"DATRAS\")"
   ]
  },
  {
   "cell_type": "code",
   "execution_count": null,
   "metadata": {
    "collapsed": true,
    "slideshow": {
     "slide_type": "slide"
    }
   },
   "outputs": [],
   "source": [
    "### Baltic sea data (julia example)"
   ]
  },
  {
   "cell_type": "code",
   "execution_count": 1,
   "metadata": {},
   "outputs": [
    {
     "name": "stderr",
     "output_type": "stream",
     "text": [
      "┌ Info: Recompiling stale cache file /home/melian/.julia/compiled/v1.0/CSVFiles/kq3Uy.ji for CSVFiles [5d742f6a-9f54-50ce-8119-2520741973ca]\n",
      "└ @ Base loading.jl:1187\n",
      "┌ Info: Recompiling stale cache file /home/melian/.julia/compiled/v1.0/CSV/HHBkp.ji for CSV [336ed68f-0bac-5ca0-87d4-7b16caf5d00b]\n",
      "└ @ Base loading.jl:1187\n",
      "┌ Info: Recompiling stale cache file /home/melian/.julia/compiled/v1.0/Plots/ld3vC.ji for Plots [91a5bcdd-55d7-5caf-9e0b-520d859cae80]\n",
      "└ @ Base loading.jl:1187\n",
      "┌ Info: Recompiling stale cache file /home/melian/.julia/compiled/v1.0/StatsPlots/SiylL.ji for StatsPlots [f3b207a7-027a-5e70-b257-86293d7955fd]\n",
      "└ @ Base loading.jl:1187\n",
      "┌ Info: Recompiling stale cache file /home/melian/.julia/compiled/v1.0/JuliaDB/4FA8g.ji for JuliaDB [a93385a2-3734-596a-9a66-3cfbb77141e6]\n",
      "└ @ Base loading.jl:1187\n"
     ]
    },
    {
     "ename": "ArgumentError",
     "evalue": "ArgumentError: \"TorskBITS2013-2018.csv\" is not a valid file",
     "output_type": "error",
     "traceback": [
      "ArgumentError: \"TorskBITS2013-2018.csv\" is not a valid file",
      "",
      "Stacktrace:",
      " [1] checkvalidsource at /home/melian/.julia/packages/CSV/76SRf/src/CSV.jl:140 [inlined]",
      " [2] file(::String, ::Int64, ::Bool, ::Int64, ::Nothing, ::Int64, ::Int64, ::Bool, ::Nothing, ::Bool, ::Bool, ::Nothing, ::Nothing, ::Nothing, ::Array{String,1}, ::String, ::Nothing, ::Bool, ::Char, ::Nothing, ::Nothing, ::Char, ::Nothing, ::UInt8, ::Nothing, ::Nothing, ::Nothing, ::Nothing, ::Dict{Int8,Int8}, ::Bool, ::Float64, ::Bool, ::Bool, ::Bool, ::Bool, ::Nothing) at /home/melian/.julia/packages/CSV/76SRf/src/CSV.jl:314",
      " [3] #File#15 at /home/melian/.julia/packages/CSV/76SRf/src/CSV.jl:262 [inlined]",
      " [4] CSV.File(::String) at /home/melian/.julia/packages/CSV/76SRf/src/CSV.jl:262",
      " [5] top-level scope at In[1]:5"
     ]
    }
   ],
   "source": [
    "#### DataFrame julia --> \n",
    "\n",
    "using CSVFiles, CSV, DataFrames, Plots, StatsPlots, Missings, Statistics\n",
    "using JuliaDB, IterableTables, FileIO\n",
    "#x = CSV.File(\"SkrubbaBITS2013-2018.csv\") |> DataFrame\n",
    "x = CSV.File(\"TorskBITS2013-2018.csv\") |> DataFrame;\n",
    "x[1:5,:]"
   ]
  },
  {
   "cell_type": "code",
   "execution_count": 2,
   "metadata": {
    "slideshow": {
     "slide_type": "subslide"
    }
   },
   "outputs": [
    {
     "data": {
      "text/html": [
       "<table class=\"data-frame\"><thead><tr><th></th><th>Column1</th><th>coun</th><th>ship</th><th>cruise</th><th>sample type</th><th>sd</th><th>ices</th><th>rect</th><th>year</th></tr><tr><th></th><th>Int64</th><th>String</th><th>String⍰</th><th>String⍰</th><th>String⍰</th><th>String⍰</th><th>String⍰</th><th>Int64⍰</th><th>Int64</th></tr></thead><tbody><p>5 rows × 46 columns (omitted printing of 37 columns)</p><tr><th>1</th><td>1</td><td>SWE</td><td>DANS</td><td>BITS</td><td>trawl</td><td>SD26-28</td><td>43G8</td><td>4363</td><td>2015</td></tr><tr><th>2</th><td>2</td><td>SWE</td><td>DANS</td><td>BITS</td><td>trawl</td><td>SD26-28</td><td>43G8</td><td>4363</td><td>2015</td></tr><tr><th>3</th><td>3</td><td>SWE</td><td>DANS</td><td>BITS</td><td>trawl</td><td>SD26-28</td><td>43G8</td><td>4363</td><td>2015</td></tr><tr><th>4</th><td>4</td><td>SWE</td><td>DANS</td><td>BITS</td><td>trawl</td><td>SD26-28</td><td>43G8</td><td>4363</td><td>2015</td></tr><tr><th>5</th><td>5</td><td>SWE</td><td>DANS</td><td>BITS</td><td>trawl</td><td>SD26-28</td><td>43G8</td><td>4363</td><td>2015</td></tr></tbody></table>"
      ],
      "text/latex": [
       "\\begin{tabular}{r|cccccccccc}\n",
       "\t& Column1 & coun & ship & cruise & sample type & sd & ices & rect & year & \\\\\n",
       "\t\\hline\n",
       "\t& Int64 & String & String⍰ & String⍰ & String⍰ & String⍰ & String⍰ & Int64⍰ & Int64 & \\\\\n",
       "\t\\hline\n",
       "\t1 & 1 & SWE & DANS & BITS & trawl & SD26-28 & 43G8 & 4363 & 2015 & $\\dots$ \\\\\n",
       "\t2 & 2 & SWE & DANS & BITS & trawl & SD26-28 & 43G8 & 4363 & 2015 & $\\dots$ \\\\\n",
       "\t3 & 3 & SWE & DANS & BITS & trawl & SD26-28 & 43G8 & 4363 & 2015 & $\\dots$ \\\\\n",
       "\t4 & 4 & SWE & DANS & BITS & trawl & SD26-28 & 43G8 & 4363 & 2015 & $\\dots$ \\\\\n",
       "\t5 & 5 & SWE & DANS & BITS & trawl & SD26-28 & 43G8 & 4363 & 2015 & $\\dots$ \\\\\n",
       "\\end{tabular}\n"
      ],
      "text/plain": [
       "5×46 DataFrame. Omitted printing of 39 columns\n",
       "│ Row │ Column1 │ coun   │ ship    │ cruise  │ sample type │ sd      │ ices    │\n",
       "│     │ \u001b[90mInt64\u001b[39m   │ \u001b[90mString\u001b[39m │ \u001b[90mString⍰\u001b[39m │ \u001b[90mString⍰\u001b[39m │ \u001b[90mString⍰\u001b[39m     │ \u001b[90mString⍰\u001b[39m │ \u001b[90mString⍰\u001b[39m │\n",
       "├─────┼─────────┼────────┼─────────┼─────────┼─────────────┼─────────┼─────────┤\n",
       "│ 1   │ 1       │ SWE    │ DANS    │ BITS    │ trawl       │ SD26-28 │ 43G8    │\n",
       "│ 2   │ 2       │ SWE    │ DANS    │ BITS    │ trawl       │ SD26-28 │ 43G8    │\n",
       "│ 3   │ 3       │ SWE    │ DANS    │ BITS    │ trawl       │ SD26-28 │ 43G8    │\n",
       "│ 4   │ 4       │ SWE    │ DANS    │ BITS    │ trawl       │ SD26-28 │ 43G8    │\n",
       "│ 5   │ 5       │ SWE    │ DANS    │ BITS    │ trawl       │ SD26-28 │ 43G8    │"
      ]
     },
     "execution_count": 2,
     "metadata": {},
     "output_type": "execute_result"
    }
   ],
   "source": [
    "#### DataFrame julia --> Diet data\n",
    "\n",
    "using CSVFiles, CSV, DataFrames, Plots, StatsPlots, Missings, Statistics\n",
    "using JuliaDB, IterableTables, FileIO\n",
    "#x = CSV.File(\"datashow/StomachCod.csv\") |> DataFrame\n",
    "x = CSV.File(\"datashow/Stomachsupdated.csv\") |> DataFrame;\n",
    "x[1:5,:]"
   ]
  },
  {
   "cell_type": "code",
   "execution_count": 12,
   "metadata": {
    "collapsed": true,
    "slideshow": {
     "slide_type": "skip"
    }
   },
   "outputs": [],
   "source": [
    "using RDatasets, GR, PyPlot, Gadfly\n",
    "\n",
    "iris = dataset(\"datasets\", \"iris\");\n",
    "first(iris, 5)\n",
    "#Gadfly.plot(iris, x = :SepalLength, y = :SepalWidth, color = :Species, Geom.point)\n",
    "\n",
    "#x[!,28] = (x[!,28].-mean(skipmissing(x[!,28])))./std(skipmissing(x[!,28]));\n",
    "#names(x)"
   ]
  },
  {
   "cell_type": "code",
   "execution_count": 2,
   "metadata": {
    "slideshow": {
     "slide_type": "subslide"
    }
   },
   "outputs": [
    {
     "data": {
      "image/svg+xml": [
       "<?xml version=\"1.0\" encoding=\"utf-8\"?>\n",
       "<svg xmlns=\"http://www.w3.org/2000/svg\" xmlns:xlink=\"http://www.w3.org/1999/xlink\" width=\"600\" height=\"400\" viewBox=\"0 0 2400 1600\">\n",
       "<defs>\n",
       "  <clipPath id=\"clip8600\">\n",
       "    <rect x=\"0\" y=\"0\" width=\"2400\" height=\"1600\"/>\n",
       "  </clipPath>\n",
       "</defs>\n",
       "<path clip-path=\"url(#clip8600)\" d=\"\n",
       "M0 1600 L2400 1600 L2400 0 L0 0  Z\n",
       "  \" fill=\"#ffffff\" fill-rule=\"evenodd\" fill-opacity=\"1\"/>\n",
       "<defs>\n",
       "  <clipPath id=\"clip8601\">\n",
       "    <rect x=\"480\" y=\"0\" width=\"1681\" height=\"1600\"/>\n",
       "  </clipPath>\n",
       "</defs>\n",
       "<path clip-path=\"url(#clip8600)\" d=\"\n",
       "M180.66 1487.47 L2352.76 1487.47 L2352.76 47.2441 L180.66 47.2441  Z\n",
       "  \" fill=\"#ffffff\" fill-rule=\"evenodd\" fill-opacity=\"1\"/>\n",
       "<defs>\n",
       "  <clipPath id=\"clip8602\">\n",
       "    <rect x=\"180\" y=\"47\" width=\"2173\" height=\"1441\"/>\n",
       "  </clipPath>\n",
       "</defs>\n",
       "<polyline clip-path=\"url(#clip8602)\" style=\"stroke:#000000; stroke-width:2; stroke-opacity:0.1; fill:none\" points=\"\n",
       "  550.419,1487.47 550.419,47.2441 \n",
       "  \"/>\n",
       "<polyline clip-path=\"url(#clip8602)\" style=\"stroke:#000000; stroke-width:2; stroke-opacity:0.1; fill:none\" points=\"\n",
       "  1101.41,1487.47 1101.41,47.2441 \n",
       "  \"/>\n",
       "<polyline clip-path=\"url(#clip8602)\" style=\"stroke:#000000; stroke-width:2; stroke-opacity:0.1; fill:none\" points=\"\n",
       "  1652.4,1487.47 1652.4,47.2441 \n",
       "  \"/>\n",
       "<polyline clip-path=\"url(#clip8602)\" style=\"stroke:#000000; stroke-width:2; stroke-opacity:0.1; fill:none\" points=\"\n",
       "  2203.39,1487.47 2203.39,47.2441 \n",
       "  \"/>\n",
       "<polyline clip-path=\"url(#clip8602)\" style=\"stroke:#000000; stroke-width:2; stroke-opacity:0.1; fill:none\" points=\"\n",
       "  180.66,1448.06 2352.76,1448.06 \n",
       "  \"/>\n",
       "<polyline clip-path=\"url(#clip8602)\" style=\"stroke:#000000; stroke-width:2; stroke-opacity:0.1; fill:none\" points=\"\n",
       "  180.66,1107.09 2352.76,1107.09 \n",
       "  \"/>\n",
       "<polyline clip-path=\"url(#clip8602)\" style=\"stroke:#000000; stroke-width:2; stroke-opacity:0.1; fill:none\" points=\"\n",
       "  180.66,766.116 2352.76,766.116 \n",
       "  \"/>\n",
       "<polyline clip-path=\"url(#clip8602)\" style=\"stroke:#000000; stroke-width:2; stroke-opacity:0.1; fill:none\" points=\"\n",
       "  180.66,425.143 2352.76,425.143 \n",
       "  \"/>\n",
       "<polyline clip-path=\"url(#clip8602)\" style=\"stroke:#000000; stroke-width:2; stroke-opacity:0.1; fill:none\" points=\"\n",
       "  180.66,84.1697 2352.76,84.1697 \n",
       "  \"/>\n",
       "<polyline clip-path=\"url(#clip8600)\" style=\"stroke:#000000; stroke-width:4; stroke-opacity:1; fill:none\" points=\"\n",
       "  180.66,1487.47 2352.76,1487.47 \n",
       "  \"/>\n",
       "<polyline clip-path=\"url(#clip8600)\" style=\"stroke:#000000; stroke-width:4; stroke-opacity:1; fill:none\" points=\"\n",
       "  180.66,1487.47 180.66,47.2441 \n",
       "  \"/>\n",
       "<polyline clip-path=\"url(#clip8600)\" style=\"stroke:#000000; stroke-width:4; stroke-opacity:1; fill:none\" points=\"\n",
       "  550.419,1487.47 550.419,1465.87 \n",
       "  \"/>\n",
       "<polyline clip-path=\"url(#clip8600)\" style=\"stroke:#000000; stroke-width:4; stroke-opacity:1; fill:none\" points=\"\n",
       "  1101.41,1487.47 1101.41,1465.87 \n",
       "  \"/>\n",
       "<polyline clip-path=\"url(#clip8600)\" style=\"stroke:#000000; stroke-width:4; stroke-opacity:1; fill:none\" points=\"\n",
       "  1652.4,1487.47 1652.4,1465.87 \n",
       "  \"/>\n",
       "<polyline clip-path=\"url(#clip8600)\" style=\"stroke:#000000; stroke-width:4; stroke-opacity:1; fill:none\" points=\"\n",
       "  2203.39,1487.47 2203.39,1465.87 \n",
       "  \"/>\n",
       "<polyline clip-path=\"url(#clip8600)\" style=\"stroke:#000000; stroke-width:4; stroke-opacity:1; fill:none\" points=\"\n",
       "  180.66,1448.06 213.242,1448.06 \n",
       "  \"/>\n",
       "<polyline clip-path=\"url(#clip8600)\" style=\"stroke:#000000; stroke-width:4; stroke-opacity:1; fill:none\" points=\"\n",
       "  180.66,1107.09 213.242,1107.09 \n",
       "  \"/>\n",
       "<polyline clip-path=\"url(#clip8600)\" style=\"stroke:#000000; stroke-width:4; stroke-opacity:1; fill:none\" points=\"\n",
       "  180.66,766.116 213.242,766.116 \n",
       "  \"/>\n",
       "<polyline clip-path=\"url(#clip8600)\" style=\"stroke:#000000; stroke-width:4; stroke-opacity:1; fill:none\" points=\"\n",
       "  180.66,425.143 213.242,425.143 \n",
       "  \"/>\n",
       "<polyline clip-path=\"url(#clip8600)\" style=\"stroke:#000000; stroke-width:4; stroke-opacity:1; fill:none\" points=\"\n",
       "  180.66,84.1697 213.242,84.1697 \n",
       "  \"/>\n",
       "<g clip-path=\"url(#clip8600)\">\n",
       "<text style=\"fill:#000000; fill-opacity:1; font-family:Arial,Helvetica Neue,Helvetica,sans-serif; font-size:48px; text-anchor:middle;\" transform=\"rotate(0, 550.419, 1541.47)\" x=\"550.419\" y=\"1541.47\">-10</text>\n",
       "</g>\n",
       "<g clip-path=\"url(#clip8600)\">\n",
       "<text style=\"fill:#000000; fill-opacity:1; font-family:Arial,Helvetica Neue,Helvetica,sans-serif; font-size:48px; text-anchor:middle;\" transform=\"rotate(0, 1101.41, 1541.47)\" x=\"1101.41\" y=\"1541.47\">0</text>\n",
       "</g>\n",
       "<g clip-path=\"url(#clip8600)\">\n",
       "<text style=\"fill:#000000; fill-opacity:1; font-family:Arial,Helvetica Neue,Helvetica,sans-serif; font-size:48px; text-anchor:middle;\" transform=\"rotate(0, 1652.4, 1541.47)\" x=\"1652.4\" y=\"1541.47\">10</text>\n",
       "</g>\n",
       "<g clip-path=\"url(#clip8600)\">\n",
       "<text style=\"fill:#000000; fill-opacity:1; font-family:Arial,Helvetica Neue,Helvetica,sans-serif; font-size:48px; text-anchor:middle;\" transform=\"rotate(0, 2203.39, 1541.47)\" x=\"2203.39\" y=\"1541.47\">20</text>\n",
       "</g>\n",
       "<g clip-path=\"url(#clip8600)\">\n",
       "<text style=\"fill:#000000; fill-opacity:1; font-family:Arial,Helvetica Neue,Helvetica,sans-serif; font-size:48px; text-anchor:end;\" transform=\"rotate(0, 156.66, 1465.56)\" x=\"156.66\" y=\"1465.56\">0.00</text>\n",
       "</g>\n",
       "<g clip-path=\"url(#clip8600)\">\n",
       "<text style=\"fill:#000000; fill-opacity:1; font-family:Arial,Helvetica Neue,Helvetica,sans-serif; font-size:48px; text-anchor:end;\" transform=\"rotate(0, 156.66, 1124.59)\" x=\"156.66\" y=\"1124.59\">0.02</text>\n",
       "</g>\n",
       "<g clip-path=\"url(#clip8600)\">\n",
       "<text style=\"fill:#000000; fill-opacity:1; font-family:Arial,Helvetica Neue,Helvetica,sans-serif; font-size:48px; text-anchor:end;\" transform=\"rotate(0, 156.66, 783.616)\" x=\"156.66\" y=\"783.616\">0.04</text>\n",
       "</g>\n",
       "<g clip-path=\"url(#clip8600)\">\n",
       "<text style=\"fill:#000000; fill-opacity:1; font-family:Arial,Helvetica Neue,Helvetica,sans-serif; font-size:48px; text-anchor:end;\" transform=\"rotate(0, 156.66, 442.643)\" x=\"156.66\" y=\"442.643\">0.06</text>\n",
       "</g>\n",
       "<g clip-path=\"url(#clip8600)\">\n",
       "<text style=\"fill:#000000; fill-opacity:1; font-family:Arial,Helvetica Neue,Helvetica,sans-serif; font-size:48px; text-anchor:end;\" transform=\"rotate(0, 156.66, 101.67)\" x=\"156.66\" y=\"101.67\">0.08</text>\n",
       "</g>\n",
       "<polyline clip-path=\"url(#clip8602)\" style=\"stroke:#009af9; stroke-width:12; stroke-opacity:1; fill:none\" points=\"\n",
       "  242.135,1446.71 252.141,1446.52 262.146,1446.3 354.664,1442.39 447.182,1431.77 502.782,1418.96 558.381,1398.16 605.39,1371.79 652.399,1334.84 677.931,1309.44 \n",
       "  703.463,1279.8 728.996,1245.57 754.528,1206.46 778.066,1165.9 801.605,1120.93 825.143,1071.54 848.682,1017.86 899.154,889.446 949.625,746.646 1008.1,572.493 \n",
       "  1066.58,403.248 1092.56,334.12 1118.54,270.936 1144.53,215.183 1170.51,168.226 1193.3,135.224 1216.08,110.552 1238.87,94.705 1261.65,88.0053 1286.49,91.2797 \n",
       "  1311.34,105.507 1336.18,130.343 1361.02,165.193 1386.01,209.522 1411,262.117 1435.99,321.784 1460.98,387.214 1516.24,545.472 1571.49,710.403 1624.07,861.583 \n",
       "  1676.65,998.457 1703.98,1062.07 1731.31,1119.93 1758.65,1171.85 1785.98,1217.83 1832,1282.35 1878.02,1332.06 1934.2,1375.8 1990.39,1404.88 2043.2,1422.44 \n",
       "  2096.01,1433.41 2180.63,1442.52 2265.24,1446.15 2278.26,1446.46 2291.28,1446.71 \n",
       "  \"/>\n",
       "<polyline clip-path=\"url(#clip8602)\" style=\"stroke:#e26f46; stroke-width:12; stroke-opacity:1; fill:none\" points=\"\n",
       "  242.135,1446.71 252.141,1446.52 262.146,1446.3 354.664,1442.39 447.182,1431.77 502.782,1418.96 558.381,1398.16 605.39,1371.79 652.399,1334.84 677.931,1309.44 \n",
       "  703.463,1279.8 728.996,1245.57 754.528,1206.46 778.066,1165.9 801.605,1120.93 825.143,1071.54 848.682,1017.86 899.154,889.446 949.625,746.646 1008.1,572.493 \n",
       "  1066.58,403.248 1092.56,334.12 1118.54,270.936 1144.53,215.183 1170.51,168.226 1193.3,135.224 1216.08,110.552 1238.87,94.705 1261.65,88.0053 1286.49,91.2797 \n",
       "  1311.34,105.507 1336.18,130.343 1361.02,165.193 1386.01,209.522 1411,262.117 1435.99,321.784 1460.98,387.214 1516.24,545.472 1571.49,710.403 1624.07,861.583 \n",
       "  1676.65,998.457 1703.98,1062.07 1731.31,1119.93 1758.65,1171.85 1785.98,1217.83 1832,1282.35 1878.02,1332.06 1934.2,1375.8 1990.39,1404.88 2043.2,1422.44 \n",
       "  2096.01,1433.41 2180.63,1442.52 2265.24,1446.15 2278.26,1446.46 2291.28,1446.71 \n",
       "  \"/>\n",
       "<path clip-path=\"url(#clip8600)\" d=\"\n",
       "M1989.93 312.204 L2280.76 312.204 L2280.76 130.764 L1989.93 130.764  Z\n",
       "  \" fill=\"#ffffff\" fill-rule=\"evenodd\" fill-opacity=\"1\"/>\n",
       "<polyline clip-path=\"url(#clip8600)\" style=\"stroke:#000000; stroke-width:4; stroke-opacity:1; fill:none\" points=\"\n",
       "  1989.93,312.204 2280.76,312.204 2280.76,130.764 1989.93,130.764 1989.93,312.204 \n",
       "  \"/>\n",
       "<polyline clip-path=\"url(#clip8600)\" style=\"stroke:#009af9; stroke-width:12; stroke-opacity:1; fill:none\" points=\"\n",
       "  2013.93,191.244 2157.93,191.244 \n",
       "  \"/>\n",
       "<g clip-path=\"url(#clip8600)\">\n",
       "<text style=\"fill:#000000; fill-opacity:1; font-family:Arial,Helvetica Neue,Helvetica,sans-serif; font-size:48px; text-anchor:start;\" transform=\"rotate(0, 2181.93, 208.744)\" x=\"2181.93\" y=\"208.744\">y1</text>\n",
       "</g>\n",
       "<polyline clip-path=\"url(#clip8600)\" style=\"stroke:#e26f46; stroke-width:12; stroke-opacity:1; fill:none\" points=\"\n",
       "  2013.93,251.724 2157.93,251.724 \n",
       "  \"/>\n",
       "<g clip-path=\"url(#clip8600)\">\n",
       "<text style=\"fill:#000000; fill-opacity:1; font-family:Arial,Helvetica Neue,Helvetica,sans-serif; font-size:48px; text-anchor:start;\" transform=\"rotate(0, 2181.93, 269.224)\" x=\"2181.93\" y=\"269.224\">y2</text>\n",
       "</g>\n",
       "</svg>\n"
      ]
     },
     "execution_count": 2,
     "metadata": {},
     "output_type": "execute_result"
    }
   ],
   "source": [
    "using StatsPlots, Distributions\n",
    "plot!(Normal(3,5),lw=3)"
   ]
  },
  {
   "cell_type": "code",
   "execution_count": 3,
   "metadata": {
    "slideshow": {
     "slide_type": "subslide"
    }
   },
   "outputs": [
    {
     "name": "stdout",
     "output_type": "stream",
     "text": [
      "14964×50 DataFrame\n",
      "│ Row   │ Column1 │ coun   │ ship    │ cruise  │ sample typ │ sd      │\n",
      "│       │ \u001b[90mInt64\u001b[39m   │ \u001b[90mString\u001b[39m │ \u001b[90mString⍰\u001b[39m │ \u001b[90mString⍰\u001b[39m │ \u001b[90mString⍰\u001b[39m    │ \u001b[90mString⍰\u001b[39m │\n",
      "├───────┼─────────┼────────┼─────────┼─────────┼────────────┼─────────┤\n",
      "│ 1     │ 1       │ SWE    │ DANS    │ BITS    │ trawl      │ SD26-28 │\n",
      "│ 2     │ 2       │ SWE    │ DANS    │ BITS    │ trawl      │ SD26-28 │\n",
      "│ 3     │ 3       │ SWE    │ DANS    │ BITS    │ trawl      │ SD26-28 │\n",
      "│ 4     │ 4       │ SWE    │ DANS    │ BITS    │ trawl      │ SD26-28 │\n",
      "│ 5     │ 5       │ SWE    │ DANS    │ BITS    │ trawl      │ SD26-28 │\n",
      "│ 6     │ 6       │ SWE    │ DANS    │ BITS    │ trawl      │ SD26-28 │\n",
      "│ 7     │ 7       │ SWE    │ DANS    │ BITS    │ trawl      │ SD26-28 │\n",
      "│ 8     │ 8       │ SWE    │ DANS    │ BITS    │ trawl      │ SD26-28 │\n",
      "│ 9     │ 9       │ SWE    │ DANS    │ BITS    │ trawl      │ SD26-28 │\n",
      "│ 10    │ 10      │ SWE    │ DANS    │ BITS    │ trawl      │ SD26-28 │\n",
      "⋮\n",
      "│ 14954 │ 8543    │ DEN    │ DANA1   │ BITS-1  │ \u001b[90mmissing\u001b[39m    │ 25      │\n",
      "│ 14955 │ 8544    │ DEN    │ DANA1   │ BITS-1  │ \u001b[90mmissing\u001b[39m    │ 25      │\n",
      "│ 14956 │ 8545    │ DEN    │ DANA1   │ BITS-1  │ \u001b[90mmissing\u001b[39m    │ 25      │\n",
      "│ 14957 │ 8546    │ DEN    │ DANA1   │ BITS-1  │ \u001b[90mmissing\u001b[39m    │ 25      │\n",
      "│ 14958 │ 8547    │ DEN    │ DANA1   │ BITS-1  │ \u001b[90mmissing\u001b[39m    │ 25      │\n",
      "│ 14959 │ 8548    │ DEN    │ DANA1   │ BITS-1  │ \u001b[90mmissing\u001b[39m    │ 25      │\n",
      "│ 14960 │ 8549    │ DEN    │ DANA1   │ BITS-1  │ \u001b[90mmissing\u001b[39m    │ 25      │\n",
      "│ 14961 │ 8550    │ DEN    │ DANA1   │ BITS-1  │ \u001b[90mmissing\u001b[39m    │ 25      │\n",
      "│ 14962 │ 8551    │ DEN    │ DANA1   │ BITS-1  │ \u001b[90mmissing\u001b[39m    │ 25      │\n",
      "│ 14963 │ 8552    │ DEN    │ DANA1   │ BITS-1  │ \u001b[90mmissing\u001b[39m    │ 25      │\n",
      "│ 14964 │ 8553    │ DEN    │ DANA1   │ BITS-1  │ \u001b[90mmissing\u001b[39m    │ 25      │\n",
      "\n",
      "│ Row   │ ices    │ rect    │ transect │ date       │ qyear  │ year  │ month   │\n",
      "│       │ \u001b[90mString⍰\u001b[39m │ \u001b[90mInt64⍰\u001b[39m  │ \u001b[90mMissing\u001b[39m  │ \u001b[90mString⍰\u001b[39m    │ \u001b[90mString\u001b[39m │ \u001b[90mInt64\u001b[39m │ \u001b[90mInt64⍰\u001b[39m  │\n",
      "├───────┼─────────┼─────────┼──────────┼────────────┼────────┼───────┼─────────┤\n",
      "│ 1     │ 43G8    │ 4363    │ \u001b[90mmissing\u001b[39m  │ 23 11 2015 │ 4_2015 │ 2015  │ 11      │\n",
      "│ 2     │ 43G8    │ 4363    │ \u001b[90mmissing\u001b[39m  │ 23 11 2015 │ 4_2015 │ 2015  │ 11      │\n",
      "│ 3     │ 43G8    │ 4363    │ \u001b[90mmissing\u001b[39m  │ 23 11 2015 │ 4_2015 │ 2015  │ 11      │\n",
      "│ 4     │ 43G8    │ 4363    │ \u001b[90mmissing\u001b[39m  │ 23 11 2015 │ 4_2015 │ 2015  │ 11      │\n",
      "│ 5     │ 43G8    │ 4363    │ \u001b[90mmissing\u001b[39m  │ 23 11 2015 │ 4_2015 │ 2015  │ 11      │\n",
      "│ 6     │ 43G8    │ 4363    │ \u001b[90mmissing\u001b[39m  │ 23 11 2015 │ 4_2015 │ 2015  │ 11      │\n",
      "│ 7     │ 43G8    │ 4363    │ \u001b[90mmissing\u001b[39m  │ 23 11 2015 │ 4_2015 │ 2015  │ 11      │\n",
      "│ 8     │ 43G8    │ 4363    │ \u001b[90mmissing\u001b[39m  │ 23 11 2015 │ 4_2015 │ 2015  │ 11      │\n",
      "│ 9     │ 43G8    │ 4363    │ \u001b[90mmissing\u001b[39m  │ 23 11 2015 │ 4_2015 │ 2015  │ 11      │\n",
      "│ 10    │ 43G8    │ 4363    │ \u001b[90mmissing\u001b[39m  │ 23 11 2015 │ 4_2015 │ 2015  │ 11      │\n",
      "⋮\n",
      "│ 14954 │ 39G4    │ \u001b[90mmissing\u001b[39m │ \u001b[90mmissing\u001b[39m  │ 2013 NA NA │ 1_2013 │ 2013  │ \u001b[90mmissing\u001b[39m │\n",
      "│ 14955 │ 39G4    │ \u001b[90mmissing\u001b[39m │ \u001b[90mmissing\u001b[39m  │ 2013 NA NA │ 1_2013 │ 2013  │ \u001b[90mmissing\u001b[39m │\n",
      "│ 14956 │ 39G4    │ \u001b[90mmissing\u001b[39m │ \u001b[90mmissing\u001b[39m  │ 2013 NA NA │ 1_2013 │ 2013  │ \u001b[90mmissing\u001b[39m │\n",
      "│ 14957 │ 39G4    │ \u001b[90mmissing\u001b[39m │ \u001b[90mmissing\u001b[39m  │ 2013 NA NA │ 1_2013 │ 2013  │ \u001b[90mmissing\u001b[39m │\n",
      "│ 14958 │ 39G4    │ \u001b[90mmissing\u001b[39m │ \u001b[90mmissing\u001b[39m  │ 2013 NA NA │ 1_2013 │ 2013  │ \u001b[90mmissing\u001b[39m │\n",
      "│ 14959 │ 39G4    │ \u001b[90mmissing\u001b[39m │ \u001b[90mmissing\u001b[39m  │ 2013 NA NA │ 1_2013 │ 2013  │ \u001b[90mmissing\u001b[39m │\n",
      "│ 14960 │ 39G4    │ \u001b[90mmissing\u001b[39m │ \u001b[90mmissing\u001b[39m  │ 2013 NA NA │ 1_2013 │ 2013  │ \u001b[90mmissing\u001b[39m │\n",
      "│ 14961 │ 39G4    │ \u001b[90mmissing\u001b[39m │ \u001b[90mmissing\u001b[39m  │ 2013 NA NA │ 1_2013 │ 2013  │ \u001b[90mmissing\u001b[39m │\n",
      "│ 14962 │ 39G4    │ \u001b[90mmissing\u001b[39m │ \u001b[90mmissing\u001b[39m  │ 2013 NA NA │ 1_2013 │ 2013  │ \u001b[90mmissing\u001b[39m │\n",
      "│ 14963 │ 39G4    │ \u001b[90mmissing\u001b[39m │ \u001b[90mmissing\u001b[39m  │ 2013 NA NA │ 1_2013 │ 2013  │ \u001b[90mmissing\u001b[39m │\n",
      "│ 14964 │ 39G4    │ \u001b[90mmissing\u001b[39m │ \u001b[90mmissing\u001b[39m  │ 2013 NA NA │ 1_2013 │ 2013  │ \u001b[90mmissing\u001b[39m │\n",
      "\n",
      "│ Row   │ day     │ quarter │ station haul │ index        │ lat     │\n",
      "│       │ \u001b[90mInt64⍰\u001b[39m  │ \u001b[90mInt64\u001b[39m   │ \u001b[90mInt64⍰\u001b[39m       │ \u001b[90mString⍰\u001b[39m      │ \u001b[90mString⍰\u001b[39m │\n",
      "├───────┼─────────┼─────────┼──────────────┼──────────────┼─────────┤\n",
      "│ 1     │ 23      │ 4       │ 19           │ OXBH 2015 19 │ 57 005  │\n",
      "│ 2     │ 23      │ 4       │ 19           │ OXBH 2015 19 │ 57 005  │\n",
      "│ 3     │ 23      │ 4       │ 19           │ OXBH 2015 19 │ 57 005  │\n",
      "│ 4     │ 23      │ 4       │ 19           │ OXBH 2015 19 │ 57 005  │\n",
      "│ 5     │ 23      │ 4       │ 19           │ OXBH 2015 19 │ 57 005  │\n",
      "│ 6     │ 23      │ 4       │ 19           │ OXBH 2015 19 │ 57 005  │\n",
      "│ 7     │ 23      │ 4       │ 19           │ OXBH 2015 19 │ 57 005  │\n",
      "│ 8     │ 23      │ 4       │ 19           │ OXBH 2015 19 │ 57 005  │\n",
      "│ 9     │ 23      │ 4       │ 19           │ OXBH 2015 19 │ 57 005  │\n",
      "│ 10    │ 23      │ 4       │ 19           │ OXBH 2015 19 │ 57 005  │\n",
      "⋮\n",
      "│ 14954 │ \u001b[90mmissing\u001b[39m │ 1       │ 145          │ \u001b[90mmissing\u001b[39m      │ 55 462  │\n",
      "│ 14955 │ \u001b[90mmissing\u001b[39m │ 1       │ 145          │ \u001b[90mmissing\u001b[39m      │ 55 462  │\n",
      "│ 14956 │ \u001b[90mmissing\u001b[39m │ 1       │ 145          │ \u001b[90mmissing\u001b[39m      │ 55 462  │\n",
      "│ 14957 │ \u001b[90mmissing\u001b[39m │ 1       │ 145          │ \u001b[90mmissing\u001b[39m      │ 55 462  │\n",
      "│ 14958 │ \u001b[90mmissing\u001b[39m │ 1       │ 145          │ \u001b[90mmissing\u001b[39m      │ 55 462  │\n",
      "│ 14959 │ \u001b[90mmissing\u001b[39m │ 1       │ 145          │ \u001b[90mmissing\u001b[39m      │ 55 462  │\n",
      "│ 14960 │ \u001b[90mmissing\u001b[39m │ 1       │ 145          │ \u001b[90mmissing\u001b[39m      │ 55 462  │\n",
      "│ 14961 │ \u001b[90mmissing\u001b[39m │ 1       │ 145          │ \u001b[90mmissing\u001b[39m      │ 55 462  │\n",
      "│ 14962 │ \u001b[90mmissing\u001b[39m │ 1       │ 145          │ \u001b[90mmissing\u001b[39m      │ 55 462  │\n",
      "│ 14963 │ \u001b[90mmissing\u001b[39m │ 1       │ 145          │ \u001b[90mmissing\u001b[39m      │ 55 462  │\n",
      "│ 14964 │ \u001b[90mmissing\u001b[39m │ 1       │ 145          │ \u001b[90mmissing\u001b[39m      │ 55 462  │\n",
      "\n",
      "│ Row   │ long      │ depth   │ depthstep │\n",
      "│       │ \u001b[90mString⍰\u001b[39m   │ \u001b[90mString⍰\u001b[39m │ \u001b[90mString⍰\u001b[39m   │\n",
      "├───────┼───────────┼─────────┼───────────┤\n",
      "│ 1     │ 18 806    │ 72      │ >30m      │\n",
      "│ 2     │ 18 806    │ 72      │ >30m      │\n",
      "│ 3     │ 18 806    │ 72      │ >30m      │\n",
      "│ 4     │ 18 806    │ 72      │ >30m      │\n",
      "│ 5     │ 18 806    │ 72      │ >30m      │\n",
      "│ 6     │ 18 806    │ 72      │ >30m      │\n",
      "│ 7     │ 18 806    │ 72      │ >30m      │\n",
      "│ 8     │ 18 806    │ 72      │ >30m      │\n",
      "│ 9     │ 18 806    │ 72      │ >30m      │\n",
      "│ 10    │ 18 806    │ 72      │ >30m      │\n",
      "⋮\n",
      "│ 14954 │ 14 717166 │ \u001b[90mmissing\u001b[39m │ \u001b[90mmissing\u001b[39m   │\n",
      "│ 14955 │ 14 717166 │ \u001b[90mmissing\u001b[39m │ \u001b[90mmissing\u001b[39m   │\n",
      "│ 14956 │ 14 717166 │ \u001b[90mmissing\u001b[39m │ \u001b[90mmissing\u001b[39m   │\n",
      "│ 14957 │ 14 717166 │ \u001b[90mmissing\u001b[39m │ \u001b[90mmissing\u001b[39m   │\n",
      "│ 14958 │ 14 717166 │ \u001b[90mmissing\u001b[39m │ \u001b[90mmissing\u001b[39m   │\n",
      "│ 14959 │ 14 717166 │ \u001b[90mmissing\u001b[39m │ \u001b[90mmissing\u001b[39m   │\n",
      "│ 14960 │ 14 717166 │ \u001b[90mmissing\u001b[39m │ \u001b[90mmissing\u001b[39m   │\n",
      "│ 14961 │ 14 717166 │ \u001b[90mmissing\u001b[39m │ \u001b[90mmissing\u001b[39m   │\n",
      "│ 14962 │ 14 717166 │ \u001b[90mmissing\u001b[39m │ \u001b[90mmissing\u001b[39m   │\n",
      "│ 14963 │ 14 717166 │ \u001b[90mmissing\u001b[39m │ \u001b[90mmissing\u001b[39m   │\n",
      "│ 14964 │ 14 717166 │ \u001b[90mmissing\u001b[39m │ \u001b[90mmissing\u001b[39m   │\n",
      "\n",
      "│ Row   │ sample                                   │ pred code │ pred size │\n",
      "│       │ \u001b[90mString\u001b[39m                                   │ \u001b[90mString\u001b[39m    │ \u001b[90mInt64⍰\u001b[39m    │\n",
      "├───────┼──────────────────────────────────────────┼───────────┼───────────┤\n",
      "│ 1     │ 406                                      │ COD       │ 190       │\n",
      "│ 2     │ 385                                      │ COD       │ 320       │\n",
      "│ 3     │ 389                                      │ COD       │ 330       │\n",
      "│ 4     │ 396                                      │ COD       │ 300       │\n",
      "│ 5     │ 381                                      │ COD       │ 310       │\n",
      "│ 6     │ 400                                      │ COD       │ 250       │\n",
      "│ 7     │ 398                                      │ COD       │ 260       │\n",
      "│ 8     │ 398                                      │ COD       │ 260       │\n",
      "│ 9     │ 398                                      │ COD       │ 260       │\n",
      "│ 10    │ 398                                      │ COD       │ 260       │\n",
      "⋮\n",
      "│ 14954 │ 2013_NA_NA_145_DANA1_39G4_21_F_160_36_1  │ COD       │ 160       │\n",
      "│ 14955 │ 2013_NA_NA_145_DANA1_39G4_23_M_220_93_1  │ COD       │ 220       │\n",
      "│ 14956 │ 2013_NA_NA_145_DANA1_39G4_25_M_390_525_1 │ COD       │ 390       │\n",
      "│ 14957 │ 2013_NA_NA_145_DANA1_39G4_27_F_310_244_1 │ COD       │ 310       │\n",
      "│ 14958 │ 2013_NA_NA_145_DANA1_39G4_27_F_310_244_1 │ COD       │ 310       │\n",
      "│ 14959 │ 2013_NA_NA_145_DANA1_39G4_5_F_540_1434_1 │ COD       │ 540       │\n",
      "│ 14960 │ 2013_NA_NA_145_DANA1_39G4_6_F_490_1338_1 │ COD       │ 490       │\n",
      "│ 14961 │ 2013_NA_NA_145_DANA1_39G4_6_F_490_1338_1 │ COD       │ 490       │\n",
      "│ 14962 │ 2013_NA_NA_145_DANA1_39G4_7_M_470_1090_1 │ COD       │ 470       │\n",
      "│ 14963 │ 2013_NA_NA_145_DANA1_39G4_7_M_470_1090_1 │ COD       │ 470       │\n",
      "│ 14964 │ 2013_NA_NA_145_DANA1_39G4_9_F_460_904_1  │ COD       │ 460       │\n",
      "\n",
      "│ Row   │ length │ lengthclass │ pred weight │ pred gutted weight │ age     │\n",
      "│       │ \u001b[90mInt64⍰\u001b[39m │ \u001b[90mString⍰\u001b[39m     │ \u001b[90mString⍰\u001b[39m     │ \u001b[90mString⍰\u001b[39m            │ \u001b[90mInt64⍰\u001b[39m  │\n",
      "├───────┼────────┼─────────────┼─────────────┼────────────────────┼─────────┤\n",
      "│ 1     │ 19     │ Lc6-20      │ 70          │ 60                 │ 1       │\n",
      "│ 2     │ 32     │ Lc31-40     │ 246         │ 213                │ 3       │\n",
      "│ 3     │ 33     │ Lc31-40     │ 330         │ 499                │ 3       │\n",
      "│ 4     │ 30     │ Lc21-30     │ 193         │ 169                │ 2       │\n",
      "│ 5     │ 31     │ Lc31-40     │ 244         │ 220                │ 2       │\n",
      "│ 6     │ 25     │ Lc21-30     │ 136         │ 115                │ 1       │\n",
      "│ 7     │ 26     │ Lc21-30     │ 154         │ 122                │ 1       │\n",
      "│ 8     │ 26     │ Lc21-30     │ 154         │ 122                │ 1       │\n",
      "│ 9     │ 26     │ Lc21-30     │ 154         │ 122                │ 1       │\n",
      "│ 10    │ 26     │ Lc21-30     │ 154         │ 122                │ 1       │\n",
      "⋮\n",
      "│ 14954 │ 16     │ Lc6-20      │ 36          │ \u001b[90mmissing\u001b[39m            │ \u001b[90mmissing\u001b[39m │\n",
      "│ 14955 │ 22     │ Lc21-30     │ 93          │ \u001b[90mmissing\u001b[39m            │ \u001b[90mmissing\u001b[39m │\n",
      "│ 14956 │ 39     │ Lc31-40     │ 525         │ \u001b[90mmissing\u001b[39m            │ \u001b[90mmissing\u001b[39m │\n",
      "│ 14957 │ 31     │ Lc31-40     │ 244         │ \u001b[90mmissing\u001b[39m            │ \u001b[90mmissing\u001b[39m │\n",
      "│ 14958 │ 31     │ Lc31-40     │ 244         │ \u001b[90mmissing\u001b[39m            │ \u001b[90mmissing\u001b[39m │\n",
      "│ 14959 │ 54     │ Lc>50       │ 1434        │ \u001b[90mmissing\u001b[39m            │ \u001b[90mmissing\u001b[39m │\n",
      "│ 14960 │ 49     │ Lc41-50     │ 1338        │ \u001b[90mmissing\u001b[39m            │ \u001b[90mmissing\u001b[39m │\n",
      "│ 14961 │ 49     │ Lc41-50     │ 1338        │ \u001b[90mmissing\u001b[39m            │ \u001b[90mmissing\u001b[39m │\n",
      "│ 14962 │ 47     │ Lc41-50     │ 1090        │ \u001b[90mmissing\u001b[39m            │ \u001b[90mmissing\u001b[39m │\n",
      "│ 14963 │ 47     │ Lc41-50     │ 1090        │ \u001b[90mmissing\u001b[39m            │ \u001b[90mmissing\u001b[39m │\n",
      "│ 14964 │ 46     │ Lc41-50     │ 904         │ \u001b[90mmissing\u001b[39m            │ \u001b[90mmissing\u001b[39m │\n",
      "\n",
      "│ Row   │ sex     │ maturity │ gonad weight │ liver weight │ gall bladder │\n",
      "│       │ \u001b[90mString⍰\u001b[39m │ \u001b[90mInt64⍰\u001b[39m   │ \u001b[90mInt64⍰\u001b[39m       │ \u001b[90mString⍰\u001b[39m      │ \u001b[90mInt64⍰\u001b[39m       │\n",
      "├───────┼─────────┼──────────┼──────────────┼──────────────┼──────────────┤\n"
     ]
    },
    {
     "name": "stdout",
     "output_type": "stream",
     "text": [
      "│ 1     │ M       │ 2        │ \u001b[90mmissing\u001b[39m      │ 5            │ 1            │\n",
      "│ 2     │ M       │ 8        │ \u001b[90mmissing\u001b[39m      │ 9            │ 1            │\n",
      "│ 3     │ M       │ 2        │ \u001b[90mmissing\u001b[39m      │ 27           │ 4            │\n",
      "│ 4     │ M       │ 3        │ \u001b[90mmissing\u001b[39m      │ 10           │ 4            │\n",
      "│ 5     │ M       │ 3        │ \u001b[90mmissing\u001b[39m      │ 11           │ 4            │\n",
      "│ 6     │ M       │ 3        │ \u001b[90mmissing\u001b[39m      │ 8            │ 2            │\n",
      "│ 7     │ M       │ 4        │ \u001b[90mmissing\u001b[39m      │ 5            │ 1            │\n",
      "│ 8     │ M       │ 4        │ \u001b[90mmissing\u001b[39m      │ 5            │ 1            │\n",
      "│ 9     │ M       │ 4        │ \u001b[90mmissing\u001b[39m      │ 5            │ 1            │\n",
      "│ 10    │ M       │ 4        │ \u001b[90mmissing\u001b[39m      │ 5            │ 1            │\n",
      "⋮\n",
      "│ 14954 │ F       │ \u001b[90mmissing\u001b[39m  │ \u001b[90mmissing\u001b[39m      │ \u001b[90mmissing\u001b[39m      │ \u001b[90mmissing\u001b[39m      │\n",
      "│ 14955 │ M       │ \u001b[90mmissing\u001b[39m  │ \u001b[90mmissing\u001b[39m      │ \u001b[90mmissing\u001b[39m      │ \u001b[90mmissing\u001b[39m      │\n",
      "│ 14956 │ M       │ \u001b[90mmissing\u001b[39m  │ \u001b[90mmissing\u001b[39m      │ \u001b[90mmissing\u001b[39m      │ \u001b[90mmissing\u001b[39m      │\n",
      "│ 14957 │ F       │ \u001b[90mmissing\u001b[39m  │ \u001b[90mmissing\u001b[39m      │ \u001b[90mmissing\u001b[39m      │ \u001b[90mmissing\u001b[39m      │\n",
      "│ 14958 │ F       │ \u001b[90mmissing\u001b[39m  │ \u001b[90mmissing\u001b[39m      │ \u001b[90mmissing\u001b[39m      │ \u001b[90mmissing\u001b[39m      │\n",
      "│ 14959 │ F       │ \u001b[90mmissing\u001b[39m  │ \u001b[90mmissing\u001b[39m      │ \u001b[90mmissing\u001b[39m      │ \u001b[90mmissing\u001b[39m      │\n",
      "│ 14960 │ F       │ \u001b[90mmissing\u001b[39m  │ \u001b[90mmissing\u001b[39m      │ \u001b[90mmissing\u001b[39m      │ \u001b[90mmissing\u001b[39m      │\n",
      "│ 14961 │ F       │ \u001b[90mmissing\u001b[39m  │ \u001b[90mmissing\u001b[39m      │ \u001b[90mmissing\u001b[39m      │ \u001b[90mmissing\u001b[39m      │\n",
      "│ 14962 │ M       │ \u001b[90mmissing\u001b[39m  │ \u001b[90mmissing\u001b[39m      │ \u001b[90mmissing\u001b[39m      │ \u001b[90mmissing\u001b[39m      │\n",
      "│ 14963 │ M       │ \u001b[90mmissing\u001b[39m  │ \u001b[90mmissing\u001b[39m      │ \u001b[90mmissing\u001b[39m      │ \u001b[90mmissing\u001b[39m      │\n",
      "│ 14964 │ F       │ \u001b[90mmissing\u001b[39m  │ \u001b[90mmissing\u001b[39m      │ \u001b[90mmissing\u001b[39m      │ \u001b[90mmissing\u001b[39m      │\n",
      "\n",
      "│ Row   │ specimen note │ n full  │ n regurgitated │ n skeletal │ n empty │\n",
      "│       │ \u001b[90mString⍰\u001b[39m       │ \u001b[90mInt64⍰\u001b[39m  │ \u001b[90mInt64⍰\u001b[39m         │ \u001b[90mInt64⍰\u001b[39m     │ \u001b[90mInt64⍰\u001b[39m  │\n",
      "├───────┼───────────────┼─────────┼────────────────┼────────────┼─────────┤\n",
      "│ 1     │ \u001b[90mmissing\u001b[39m       │ 1       │ \u001b[90mmissing\u001b[39m        │ \u001b[90mmissing\u001b[39m    │ \u001b[90mmissing\u001b[39m │\n",
      "│ 2     │ \u001b[90mmissing\u001b[39m       │ 1       │ \u001b[90mmissing\u001b[39m        │ \u001b[90mmissing\u001b[39m    │ \u001b[90mmissing\u001b[39m │\n",
      "│ 3     │ \u001b[90mmissing\u001b[39m       │ \u001b[90mmissing\u001b[39m │ 1              │ \u001b[90mmissing\u001b[39m    │ \u001b[90mmissing\u001b[39m │\n",
      "│ 4     │ \u001b[90mmissing\u001b[39m       │ 1       │ \u001b[90mmissing\u001b[39m        │ \u001b[90mmissing\u001b[39m    │ \u001b[90mmissing\u001b[39m │\n",
      "│ 5     │ \u001b[90mmissing\u001b[39m       │ 1       │ \u001b[90mmissing\u001b[39m        │ \u001b[90mmissing\u001b[39m    │ \u001b[90mmissing\u001b[39m │\n",
      "│ 6     │ \u001b[90mmissing\u001b[39m       │ 1       │ \u001b[90mmissing\u001b[39m        │ \u001b[90mmissing\u001b[39m    │ \u001b[90mmissing\u001b[39m │\n",
      "│ 7     │ \u001b[90mmissing\u001b[39m       │ 1       │ \u001b[90mmissing\u001b[39m        │ \u001b[90mmissing\u001b[39m    │ \u001b[90mmissing\u001b[39m │\n",
      "│ 8     │ \u001b[90mmissing\u001b[39m       │ 1       │ \u001b[90mmissing\u001b[39m        │ \u001b[90mmissing\u001b[39m    │ \u001b[90mmissing\u001b[39m │\n",
      "│ 9     │ \u001b[90mmissing\u001b[39m       │ 1       │ \u001b[90mmissing\u001b[39m        │ \u001b[90mmissing\u001b[39m    │ \u001b[90mmissing\u001b[39m │\n",
      "│ 10    │ \u001b[90mmissing\u001b[39m       │ 1       │ \u001b[90mmissing\u001b[39m        │ \u001b[90mmissing\u001b[39m    │ \u001b[90mmissing\u001b[39m │\n",
      "⋮\n",
      "│ 14954 │ \u001b[90mmissing\u001b[39m       │ 1       │ \u001b[90mmissing\u001b[39m        │ \u001b[90mmissing\u001b[39m    │ \u001b[90mmissing\u001b[39m │\n",
      "│ 14955 │ \u001b[90mmissing\u001b[39m       │ 1       │ \u001b[90mmissing\u001b[39m        │ \u001b[90mmissing\u001b[39m    │ \u001b[90mmissing\u001b[39m │\n",
      "│ 14956 │ \u001b[90mmissing\u001b[39m       │ 1       │ \u001b[90mmissing\u001b[39m        │ \u001b[90mmissing\u001b[39m    │ \u001b[90mmissing\u001b[39m │\n",
      "│ 14957 │ \u001b[90mmissing\u001b[39m       │ 1       │ \u001b[90mmissing\u001b[39m        │ \u001b[90mmissing\u001b[39m    │ \u001b[90mmissing\u001b[39m │\n",
      "│ 14958 │ \u001b[90mmissing\u001b[39m       │ 1       │ \u001b[90mmissing\u001b[39m        │ \u001b[90mmissing\u001b[39m    │ \u001b[90mmissing\u001b[39m │\n",
      "│ 14959 │ \u001b[90mmissing\u001b[39m       │ 1       │ \u001b[90mmissing\u001b[39m        │ \u001b[90mmissing\u001b[39m    │ \u001b[90mmissing\u001b[39m │\n",
      "│ 14960 │ \u001b[90mmissing\u001b[39m       │ 1       │ \u001b[90mmissing\u001b[39m        │ \u001b[90mmissing\u001b[39m    │ \u001b[90mmissing\u001b[39m │\n",
      "│ 14961 │ \u001b[90mmissing\u001b[39m       │ 1       │ \u001b[90mmissing\u001b[39m        │ \u001b[90mmissing\u001b[39m    │ \u001b[90mmissing\u001b[39m │\n",
      "│ 14962 │ \u001b[90mmissing\u001b[39m       │ 1       │ \u001b[90mmissing\u001b[39m        │ \u001b[90mmissing\u001b[39m    │ \u001b[90mmissing\u001b[39m │\n",
      "│ 14963 │ \u001b[90mmissing\u001b[39m       │ 1       │ \u001b[90mmissing\u001b[39m        │ \u001b[90mmissing\u001b[39m    │ \u001b[90mmissing\u001b[39m │\n",
      "│ 14964 │ \u001b[90mmissing\u001b[39m       │ 1       │ \u001b[90mmissing\u001b[39m        │ \u001b[90mmissing\u001b[39m    │ \u001b[90mmissing\u001b[39m │\n",
      "\n",
      "│ Row   │ stomachcontent │ perc stomachcontent │ length code │\n",
      "│       │ \u001b[90mString\u001b[39m         │ \u001b[90mString⍰\u001b[39m             │ \u001b[90mString⍰\u001b[39m     │\n",
      "├───────┼────────────────┼─────────────────────┼─────────────┤\n",
      "│ 1     │ 0 87           │ 1 24                │ \u001b[90mmissing\u001b[39m     │\n",
      "│ 2     │ 1 78           │ 0 72                │ Ls          │\n",
      "│ 3     │ 0              │ 0                   │ \u001b[90mmissing\u001b[39m     │\n",
      "│ 4     │ 0 42           │ 0 22                │ \u001b[90mmissing\u001b[39m     │\n",
      "│ 5     │ 0 06           │ 0 02                │ \u001b[90mmissing\u001b[39m     │\n",
      "│ 6     │ 0 8            │ 0 59                │ \u001b[90mmissing\u001b[39m     │\n",
      "│ 7     │ 4 19           │ 2 72                │ \u001b[90mmissing\u001b[39m     │\n",
      "│ 8     │ 4 19           │ 2 72                │ \u001b[90mmissing\u001b[39m     │\n",
      "│ 9     │ 4 19           │ 2 72                │ \u001b[90mmissing\u001b[39m     │\n",
      "│ 10    │ 4 19           │ 2 72                │ \u001b[90mmissing\u001b[39m     │\n",
      "⋮\n",
      "│ 14954 │ 0 12           │ 0 33                │ \u001b[90mmissing\u001b[39m     │\n",
      "│ 14955 │ 0 146          │ 0 16                │ \u001b[90mmissing\u001b[39m     │\n",
      "│ 14956 │ 0 102          │ 0 02                │ \u001b[90mmissing\u001b[39m     │\n",
      "│ 14957 │ 0 267          │ 0 11                │ \u001b[90mmissing\u001b[39m     │\n",
      "│ 14958 │ 0 267          │ 0 11                │ \u001b[90mmissing\u001b[39m     │\n",
      "│ 14959 │ 0 15           │ 0 01                │ \u001b[90mmissing\u001b[39m     │\n",
      "│ 14960 │ 0 892          │ 0 07                │ \u001b[90mmissing\u001b[39m     │\n",
      "│ 14961 │ 0 892          │ 0 07                │ \u001b[90mmissing\u001b[39m     │\n",
      "│ 14962 │ 9 522          │ 0 87                │ \u001b[90mmissing\u001b[39m     │\n",
      "│ 14963 │ 9 522          │ 0 87                │ \u001b[90mmissing\u001b[39m     │\n",
      "│ 14964 │ 0 18           │ 0 02                │ \u001b[90mmissing\u001b[39m     │\n",
      "\n",
      "│ Row   │ prey sp code      │ prey size │ prey weight │ prey nr │\n",
      "│       │ \u001b[90mString⍰\u001b[39m           │ \u001b[90mInt64⍰\u001b[39m    │ \u001b[90mString\u001b[39m      │ \u001b[90mString⍰\u001b[39m │\n",
      "├───────┼───────────────────┼───────────┼─────────────┼─────────┤\n",
      "│ 1     │ Mysis mixta       │ \u001b[90mmissing\u001b[39m   │ 0 87        │ 19      │\n",
      "│ 2     │ Clupea harengus   │ 85        │ 1 78        │ 1       │\n",
      "│ 3     │ \u001b[90mmissing\u001b[39m           │ \u001b[90mmissing\u001b[39m   │ 0           │ \u001b[90mmissing\u001b[39m │\n",
      "│ 4     │ Mysis mixta       │ \u001b[90mmissing\u001b[39m   │ 0 42        │ 10      │\n",
      "│ 5     │ Mysis mixta       │ \u001b[90mmissing\u001b[39m   │ 0 06        │ 2       │\n",
      "│ 6     │ Mysis mixta       │ \u001b[90mmissing\u001b[39m   │ 0 8         │ 19      │\n",
      "│ 7     │ Mysis mixta       │ \u001b[90mmissing\u001b[39m   │ 3 94        │ 106     │\n",
      "│ 8     │ Neomysis integer  │ \u001b[90mmissing\u001b[39m   │ 0 01        │ 1       │\n",
      "│ 9     │ Saduria entomon   │ \u001b[90mmissing\u001b[39m   │ 0 18        │ 1       │\n",
      "│ 10    │ Clupeidae         │ \u001b[90mmissing\u001b[39m   │ 0 06        │ 1       │\n",
      "⋮\n",
      "│ 14954 │ Sprattus sprattus │ \u001b[90mmissing\u001b[39m   │ 0 12        │ \u001b[90mmissing\u001b[39m │\n",
      "│ 14955 │ Mysidae           │ \u001b[90mmissing\u001b[39m   │ 0 146       │ \u001b[90mmissing\u001b[39m │\n",
      "│ 14956 │ Mysidae           │ \u001b[90mmissing\u001b[39m   │ 0 102       │ \u001b[90mmissing\u001b[39m │\n",
      "│ 14957 │ Bylgides sarsi    │ \u001b[90mmissing\u001b[39m   │ 0 066       │ \u001b[90mmissing\u001b[39m │\n",
      "│ 14958 │ Mysidae           │ \u001b[90mmissing\u001b[39m   │ 0 201       │ \u001b[90mmissing\u001b[39m │\n",
      "│ 14959 │ Clupeidae         │ \u001b[90mmissing\u001b[39m   │ 0 15        │ \u001b[90mmissing\u001b[39m │\n",
      "│ 14960 │ Clupea harengus   │ \u001b[90mmissing\u001b[39m   │ 0 405       │ \u001b[90mmissing\u001b[39m │\n",
      "│ 14961 │ Sprattus sprattus │ \u001b[90mmissing\u001b[39m   │ 0 487       │ \u001b[90mmissing\u001b[39m │\n",
      "│ 14962 │ Clupea harengus   │ \u001b[90mmissing\u001b[39m   │ 0 205       │ \u001b[90mmissing\u001b[39m │\n",
      "│ 14963 │ Clupeidae         │ \u001b[90mmissing\u001b[39m   │ 9 317       │ \u001b[90mmissing\u001b[39m │\n",
      "│ 14964 │ Clupea harengus   │ \u001b[90mmissing\u001b[39m   │ 0 18        │ \u001b[90mmissing\u001b[39m │\n",
      "\n",
      "│ Row   │ stage digestion │ comment      │ parasites in stomach │ processed │\n"
     ]
    },
    {
     "name": "stdout",
     "output_type": "stream",
     "text": [
      "│       │ \u001b[90mInt64⍰\u001b[39m          │ \u001b[90mString⍰\u001b[39m      │ \u001b[90mString⍰\u001b[39m              │ \u001b[90mString\u001b[39m    │\n",
      "├───────┼─────────────────┼──────────────┼──────────────────────┼───────────┤\n",
      "│ 1     │ 1               │ \u001b[90mmissing\u001b[39m      │ \u001b[90mmissing\u001b[39m              │ original  │\n",
      "│ 2     │ 1               │ without head │ \u001b[90mmissing\u001b[39m              │ original  │\n",
      "│ 3     │ \u001b[90mmissing\u001b[39m         │ fresh scales │ \u001b[90mmissing\u001b[39m              │ sure      │\n",
      "│ 4     │ 1               │ \u001b[90mmissing\u001b[39m      │ \u001b[90mmissing\u001b[39m              │ original  │\n",
      "│ 5     │ 1               │ \u001b[90mmissing\u001b[39m      │ \u001b[90mmissing\u001b[39m              │ original  │\n",
      "│ 6     │ 1               │ \u001b[90mmissing\u001b[39m      │ \u001b[90mmissing\u001b[39m              │ original  │\n",
      "│ 7     │ 1               │ \u001b[90mmissing\u001b[39m      │ \u001b[90mmissing\u001b[39m              │ original  │\n",
      "│ 8     │ 1               │ \u001b[90mmissing\u001b[39m      │ \u001b[90mmissing\u001b[39m              │ original  │\n",
      "│ 9     │ 1               │ \u001b[90mmissing\u001b[39m      │ \u001b[90mmissing\u001b[39m              │ original  │\n",
      "│ 10    │ 2               │ \u001b[90mmissing\u001b[39m      │ \u001b[90mmissing\u001b[39m              │ original  │\n",
      "⋮\n",
      "│ 14954 │ \u001b[90mmissing\u001b[39m         │ \u001b[90mmissing\u001b[39m      │ \u001b[90mmissing\u001b[39m              │ original  │\n",
      "│ 14955 │ \u001b[90mmissing\u001b[39m         │ \u001b[90mmissing\u001b[39m      │ \u001b[90mmissing\u001b[39m              │ original  │\n",
      "│ 14956 │ \u001b[90mmissing\u001b[39m         │ \u001b[90mmissing\u001b[39m      │ \u001b[90mmissing\u001b[39m              │ original  │\n",
      "│ 14957 │ \u001b[90mmissing\u001b[39m         │ \u001b[90mmissing\u001b[39m      │ \u001b[90mmissing\u001b[39m              │ original  │\n",
      "│ 14958 │ \u001b[90mmissing\u001b[39m         │ \u001b[90mmissing\u001b[39m      │ \u001b[90mmissing\u001b[39m              │ original  │\n",
      "│ 14959 │ \u001b[90mmissing\u001b[39m         │ \u001b[90mmissing\u001b[39m      │ \u001b[90mmissing\u001b[39m              │ original  │\n",
      "│ 14960 │ \u001b[90mmissing\u001b[39m         │ \u001b[90mmissing\u001b[39m      │ \u001b[90mmissing\u001b[39m              │ original  │\n",
      "│ 14961 │ \u001b[90mmissing\u001b[39m         │ \u001b[90mmissing\u001b[39m      │ \u001b[90mmissing\u001b[39m              │ original  │\n",
      "│ 14962 │ \u001b[90mmissing\u001b[39m         │ \u001b[90mmissing\u001b[39m      │ \u001b[90mmissing\u001b[39m              │ original  │\n",
      "│ 14963 │ \u001b[90mmissing\u001b[39m         │ \u001b[90mmissing\u001b[39m      │ \u001b[90mmissing\u001b[39m              │ original  │\n",
      "│ 14964 │ \u001b[90mmissing\u001b[39m         │ \u001b[90mmissing\u001b[39m      │ \u001b[90mmissing\u001b[39m              │ original  │"
     ]
    }
   ],
   "source": [
    "show(x, allcols = true)"
   ]
  },
  {
   "cell_type": "code",
   "execution_count": 3,
   "metadata": {
    "slideshow": {
     "slide_type": "subslide"
    }
   },
   "outputs": [
    {
     "data": {
      "text/html": [
       "<table class=\"data-frame\"><thead><tr><th></th><th>Date  </th><th>Year</th><th>Quarter</th><th>Month</th><th>Appr. status</th><th>Seqno</th><th>Haul</th><th>Validity</th><th>Station name</th></tr><tr><th></th><th>Dates…</th><th>Int64</th><th>Int64</th><th>Int64</th><th>String</th><th>Int64</th><th>Int64</th><th>String</th><th>String</th></tr></thead><tbody><p>5 rows × 31 columns (omitted printing of 22 columns)</p><tr><th>1</th><td>2013-02-22</td><td>2013</td><td>1</td><td>2</td><td>No</td><td>10047</td><td>1</td><td>V</td><td>RACKAPUTT E</td></tr><tr><th>2</th><td>2013-02-22</td><td>2013</td><td>1</td><td>2</td><td>No</td><td>10047</td><td>1</td><td>V</td><td>RACKAPUTT E</td></tr><tr><th>3</th><td>2013-02-22</td><td>2013</td><td>1</td><td>2</td><td>No</td><td>10047</td><td>1</td><td>V</td><td>RACKAPUTT E</td></tr><tr><th>4</th><td>2013-02-22</td><td>2013</td><td>1</td><td>2</td><td>No</td><td>10047</td><td>1</td><td>V</td><td>RACKAPUTT E</td></tr><tr><th>5</th><td>2013-02-22</td><td>2013</td><td>1</td><td>2</td><td>No</td><td>10047</td><td>1</td><td>V</td><td>RACKAPUTT E</td></tr></tbody></table>"
      ],
      "text/latex": [
       "\\begin{tabular}{r|cccccccccc}\n",
       "\t& Date   & Year & Quarter & Month & Appr. status & Seqno & Haul & Validity & Station name & \\\\\n",
       "\t\\hline\n",
       "\t& Dates… & Int64 & Int64 & Int64 & String & Int64 & Int64 & String & String & \\\\\n",
       "\t\\hline\n",
       "\t1 & 2013-02-22 & 2013 & 1 & 2 & No & 10047 & 1 & V & RACKAPUTT E & $\\dots$ \\\\\n",
       "\t2 & 2013-02-22 & 2013 & 1 & 2 & No & 10047 & 1 & V & RACKAPUTT E & $\\dots$ \\\\\n",
       "\t3 & 2013-02-22 & 2013 & 1 & 2 & No & 10047 & 1 & V & RACKAPUTT E & $\\dots$ \\\\\n",
       "\t4 & 2013-02-22 & 2013 & 1 & 2 & No & 10047 & 1 & V & RACKAPUTT E & $\\dots$ \\\\\n",
       "\t5 & 2013-02-22 & 2013 & 1 & 2 & No & 10047 & 1 & V & RACKAPUTT E & $\\dots$ \\\\\n",
       "\\end{tabular}\n"
      ],
      "text/plain": [
       "5×31 DataFrame. Omitted printing of 24 columns\n",
       "│ Row │ Date       │ Year  │ Quarter │ Month │ Appr. status │ Seqno │ Haul  │\n",
       "│     │ \u001b[90mDates.Date\u001b[39m │ \u001b[90mInt64\u001b[39m │ \u001b[90mInt64\u001b[39m   │ \u001b[90mInt64\u001b[39m │ \u001b[90mString\u001b[39m       │ \u001b[90mInt64\u001b[39m │ \u001b[90mInt64\u001b[39m │\n",
       "├─────┼────────────┼───────┼─────────┼───────┼──────────────┼───────┼───────┤\n",
       "│ 1   │ 2013-02-22 │ 2013  │ 1       │ 2     │ No           │ 10047 │ 1     │\n",
       "│ 2   │ 2013-02-22 │ 2013  │ 1       │ 2     │ No           │ 10047 │ 1     │\n",
       "│ 3   │ 2013-02-22 │ 2013  │ 1       │ 2     │ No           │ 10047 │ 1     │\n",
       "│ 4   │ 2013-02-22 │ 2013  │ 1       │ 2     │ No           │ 10047 │ 1     │\n",
       "│ 5   │ 2013-02-22 │ 2013  │ 1       │ 2     │ No           │ 10047 │ 1     │"
      ]
     },
     "execution_count": 3,
     "metadata": {},
     "output_type": "execute_result"
    }
   ],
   "source": [
    "#### DataFrame julia --> Trawl data \n",
    "\n",
    "using CSVFiles, CSV, DataFrames, Plots, StatsPlots, Missings, Statistics\n",
    "using JuliaDB, IterableTables, FileIO\n",
    "#x = CSV.File(\"datashow/trawl_surveys_zexcl_SkrubbaBITS2013-2018.csv\") |> DataFrame\n",
    "x = CSV.File(\"datashow/trawl_surveys_zexcl_TorskBITS2013-2018.csv\") |> DataFrame\n",
    "x[1:5,:]"
   ]
  },
  {
   "cell_type": "code",
   "execution_count": 60,
   "metadata": {
    "slideshow": {
     "slide_type": "subslide"
    }
   },
   "outputs": [
    {
     "name": "stdout",
     "output_type": "stream",
     "text": [
      "7115×31 DataFrame\n",
      "│ Row  │ Date       │ Year  │ Quarter │ Month │ Appr. status │ Seqno │ Haul  │\n",
      "│      │ \u001b[90mDates.Date\u001b[39m │ \u001b[90mInt64\u001b[39m │ \u001b[90mInt64\u001b[39m   │ \u001b[90mInt64\u001b[39m │ \u001b[90mString\u001b[39m       │ \u001b[90mInt64\u001b[39m │ \u001b[90mInt64\u001b[39m │\n",
      "├──────┼────────────┼───────┼─────────┼───────┼──────────────┼───────┼───────┤\n",
      "│ 1    │ 2013-02-22 │ 2013  │ 1       │ 2     │ No           │ 10047 │ 1     │\n",
      "│ 2    │ 2013-02-22 │ 2013  │ 1       │ 2     │ No           │ 10047 │ 1     │\n",
      "│ 3    │ 2013-02-22 │ 2013  │ 1       │ 2     │ No           │ 10047 │ 1     │\n",
      "│ 4    │ 2013-02-22 │ 2013  │ 1       │ 2     │ No           │ 10047 │ 1     │\n",
      "│ 5    │ 2013-02-22 │ 2013  │ 1       │ 2     │ No           │ 10047 │ 1     │\n",
      "│ 6    │ 2013-02-22 │ 2013  │ 1       │ 2     │ No           │ 10047 │ 1     │\n",
      "│ 7    │ 2013-02-22 │ 2013  │ 1       │ 2     │ No           │ 10047 │ 1     │\n",
      "│ 8    │ 2013-02-22 │ 2013  │ 1       │ 2     │ No           │ 10047 │ 1     │\n",
      "│ 9    │ 2013-02-22 │ 2013  │ 1       │ 2     │ No           │ 10047 │ 1     │\n",
      "│ 10   │ 2013-02-22 │ 2013  │ 1       │ 2     │ No           │ 10047 │ 1     │\n",
      "⋮\n",
      "│ 7105 │ 2018-11-28 │ 2018  │ 4       │ 11    │ No           │ 10207 │ 61    │\n",
      "│ 7106 │ 2018-11-28 │ 2018  │ 4       │ 11    │ No           │ 10207 │ 61    │\n",
      "│ 7107 │ 2018-11-28 │ 2018  │ 4       │ 11    │ No           │ 10207 │ 61    │\n",
      "│ 7108 │ 2018-11-28 │ 2018  │ 4       │ 11    │ No           │ 10207 │ 61    │\n",
      "│ 7109 │ 2018-11-28 │ 2018  │ 4       │ 11    │ No           │ 10207 │ 61    │\n",
      "│ 7110 │ 2018-11-28 │ 2018  │ 4       │ 11    │ No           │ 10207 │ 61    │\n",
      "│ 7111 │ 2018-11-28 │ 2018  │ 4       │ 11    │ No           │ 10207 │ 61    │\n",
      "│ 7112 │ 2018-11-28 │ 2018  │ 4       │ 11    │ No           │ 10207 │ 61    │\n",
      "│ 7113 │ 2018-11-28 │ 2018  │ 4       │ 11    │ No           │ 10207 │ 61    │\n",
      "│ 7114 │ 2018-11-28 │ 2018  │ 4       │ 11    │ No           │ 10207 │ 61    │\n",
      "│ 7115 │ 2018-11-28 │ 2018  │ 4       │ 11    │ No           │ 10207 │ 61    │\n",
      "\n",
      "│ Row  │ Validity │ Station name     │ Species │ Subsam │ Processing │ Grade │\n",
      "│      │ \u001b[90mString\u001b[39m   │ \u001b[90mString\u001b[39m           │ \u001b[90mString\u001b[39m  │ \u001b[90mInt64\u001b[39m  │ \u001b[90mInt64\u001b[39m      │ \u001b[90mInt64\u001b[39m │\n",
      "├──────┼──────────┼──────────────────┼─────────┼────────┼────────────┼───────┤\n",
      "│ 1    │ V        │ RACKAPUTT E      │ Cod     │ 0      │ 0          │ 9     │\n",
      "│ 2    │ V        │ RACKAPUTT E      │ Cod     │ 0      │ 0          │ 9     │\n",
      "│ 3    │ V        │ RACKAPUTT E      │ Cod     │ 0      │ 0          │ 9     │\n",
      "│ 4    │ V        │ RACKAPUTT E      │ Cod     │ 0      │ 0          │ 9     │\n",
      "│ 5    │ V        │ RACKAPUTT E      │ Cod     │ 0      │ 0          │ 9     │\n",
      "│ 6    │ V        │ RACKAPUTT E      │ Cod     │ 0      │ 0          │ 9     │\n",
      "│ 7    │ V        │ RACKAPUTT E      │ Cod     │ 0      │ 0          │ 9     │\n",
      "│ 8    │ V        │ RACKAPUTT E      │ Cod     │ 0      │ 0          │ 9     │\n",
      "│ 9    │ V        │ RACKAPUTT E      │ Cod     │ 0      │ 0          │ 9     │\n",
      "│ 10   │ V        │ RACKAPUTT E      │ Cod     │ 0      │ 0          │ 9     │\n",
      "⋮\n",
      "│ 7105 │ V        │ RAKAPUTT CENTRAL │ Cod     │ 0      │ 0          │ 9     │\n",
      "│ 7106 │ V        │ RAKAPUTT CENTRAL │ Cod     │ 0      │ 0          │ 9     │\n",
      "│ 7107 │ V        │ RAKAPUTT CENTRAL │ Cod     │ 0      │ 0          │ 9     │\n",
      "│ 7108 │ V        │ RAKAPUTT CENTRAL │ Cod     │ 0      │ 0          │ 9     │\n",
      "│ 7109 │ V        │ RAKAPUTT CENTRAL │ Cod     │ 0      │ 0          │ 9     │\n",
      "│ 7110 │ V        │ RAKAPUTT CENTRAL │ Cod     │ 0      │ 0          │ 9     │\n",
      "│ 7111 │ V        │ RAKAPUTT CENTRAL │ Cod     │ 0      │ 0          │ 9     │\n",
      "│ 7112 │ V        │ RAKAPUTT CENTRAL │ Cod     │ 0      │ 0          │ 9     │\n",
      "│ 7113 │ V        │ RAKAPUTT CENTRAL │ Cod     │ 0      │ 0          │ 9     │\n",
      "│ 7114 │ V        │ RAKAPUTT CENTRAL │ Cod     │ 0      │ 0          │ 9     │\n",
      "│ 7115 │ V        │ RAKAPUTT CENTRAL │ Cod     │ 0      │ 0          │ 9     │\n",
      "\n",
      "│ Row  │ Sex    │ Subdiv │ Rect  │ ICES   │ Lat     │ Long    │ Bottom depth │\n",
      "│      │ \u001b[90mString\u001b[39m │ \u001b[90mInt64\u001b[39m  │ \u001b[90mInt64\u001b[39m │ \u001b[90mString\u001b[39m │ \u001b[90mString\u001b[39m  │ \u001b[90mString\u001b[39m  │ \u001b[90mString\u001b[39m       │\n",
      "├──────┼────────┼────────┼───────┼────────┼─────────┼─────────┼──────────────┤\n",
      "│ 1    │ -      │ 25     │ 4059  │ 40G4   │ 5540,5  │ 1429,11 │ 50,1         │\n",
      "│ 2    │ -      │ 25     │ 4059  │ 40G4   │ 5540,5  │ 1429,11 │ 50,1         │\n",
      "│ 3    │ -      │ 25     │ 4059  │ 40G4   │ 5540,5  │ 1429,11 │ 50,1         │\n",
      "│ 4    │ -      │ 25     │ 4059  │ 40G4   │ 5540,5  │ 1429,11 │ 50,1         │\n",
      "│ 5    │ -      │ 25     │ 4059  │ 40G4   │ 5540,5  │ 1429,11 │ 50,1         │\n",
      "│ 6    │ -      │ 25     │ 4059  │ 40G4   │ 5540,5  │ 1429,11 │ 50,1         │\n",
      "│ 7    │ -      │ 25     │ 4059  │ 40G4   │ 5540,5  │ 1429,11 │ 50,1         │\n",
      "│ 8    │ -      │ 25     │ 4059  │ 40G4   │ 5540,5  │ 1429,11 │ 50,1         │\n",
      "│ 9    │ -      │ 25     │ 4059  │ 40G4   │ 5540,5  │ 1429,11 │ 50,1         │\n",
      "│ 10   │ -      │ 25     │ 4059  │ 40G4   │ 5540,5  │ 1429,11 │ 50,1         │\n",
      "⋮\n",
      "│ 7105 │ -      │ 25     │ 4059  │ 40G4   │ 5540,28 │ 1429,68 │ 49           │\n",
      "│ 7106 │ -      │ 25     │ 4059  │ 40G4   │ 5540,28 │ 1429,68 │ 49           │\n",
      "│ 7107 │ -      │ 25     │ 4059  │ 40G4   │ 5540,28 │ 1429,68 │ 49           │\n",
      "│ 7108 │ -      │ 25     │ 4059  │ 40G4   │ 5540,28 │ 1429,68 │ 49           │\n",
      "│ 7109 │ -      │ 25     │ 4059  │ 40G4   │ 5540,28 │ 1429,68 │ 49           │\n",
      "│ 7110 │ -      │ 25     │ 4059  │ 40G4   │ 5540,28 │ 1429,68 │ 49           │\n",
      "│ 7111 │ -      │ 25     │ 4059  │ 40G4   │ 5540,28 │ 1429,68 │ 49           │\n",
      "│ 7112 │ -      │ 25     │ 4059  │ 40G4   │ 5540,28 │ 1429,68 │ 49           │\n",
      "│ 7113 │ -      │ 25     │ 4059  │ 40G4   │ 5540,28 │ 1429,68 │ 49           │\n",
      "│ 7114 │ -      │ 25     │ 4059  │ 40G4   │ 5540,28 │ 1429,68 │ 49           │\n",
      "│ 7115 │ -      │ 25     │ 4059  │ 40G4   │ 5540,28 │ 1429,68 │ 49           │\n",
      "\n",
      "│ Row  │ Duration │ Dist.  │ Doorspread │ Headropedepth │ Opening │ Kg/hour │\n",
      "│      │ \u001b[90mInt64\u001b[39m    │ \u001b[90mString\u001b[39m │ \u001b[90mString\u001b[39m     │ \u001b[90mString\u001b[39m        │ \u001b[90mString\u001b[39m  │ \u001b[90mString\u001b[39m  │\n",
      "├──────┼──────────┼────────┼────────────┼───────────────┼─────────┼─────────┤\n",
      "│ 1    │ 30       │ 1,49   │ 84,3       │ -             │ 5,7     │ 2255,48 │\n",
      "│ 2    │ 30       │ 1,49   │ 84,3       │ -             │ 5,7     │ 2255,48 │\n",
      "│ 3    │ 30       │ 1,49   │ 84,3       │ -             │ 5,7     │ 2255,48 │\n",
      "│ 4    │ 30       │ 1,49   │ 84,3       │ -             │ 5,7     │ 2255,48 │\n",
      "│ 5    │ 30       │ 1,49   │ 84,3       │ -             │ 5,7     │ 2255,48 │\n",
      "│ 6    │ 30       │ 1,49   │ 84,3       │ -             │ 5,7     │ 2255,48 │\n",
      "│ 7    │ 30       │ 1,49   │ 84,3       │ -             │ 5,7     │ 2255,48 │\n",
      "│ 8    │ 30       │ 1,49   │ 84,3       │ -             │ 5,7     │ 2255,48 │\n",
      "│ 9    │ 30       │ 1,49   │ 84,3       │ -             │ 5,7     │ 2255,48 │\n",
      "│ 10   │ 30       │ 1,49   │ 84,3       │ -             │ 5,7     │ 2255,48 │\n",
      "⋮\n",
      "│ 7105 │ 23       │ 1,2    │ 81         │ -             │ 4,2     │ 516     │\n",
      "│ 7106 │ 23       │ 1,2    │ 81         │ -             │ 4,2     │ 516     │\n",
      "│ 7107 │ 23       │ 1,2    │ 81         │ -             │ 4,2     │ 516     │\n",
      "│ 7108 │ 23       │ 1,2    │ 81         │ -             │ 4,2     │ 516     │\n",
      "│ 7109 │ 23       │ 1,2    │ 81         │ -             │ 4,2     │ 516     │\n",
      "│ 7110 │ 23       │ 1,2    │ 81         │ -             │ 4,2     │ 516     │\n",
      "│ 7111 │ 23       │ 1,2    │ 81         │ -             │ 4,2     │ 516     │\n",
      "│ 7112 │ 23       │ 1,2    │ 81         │ -             │ 4,2     │ 516     │\n",
      "│ 7113 │ 23       │ 1,2    │ 81         │ -             │ 4,2     │ 516     │\n",
      "│ 7114 │ 23       │ 1,2    │ 81         │ -             │ 4,2     │ 516     │\n",
      "│ 7115 │ 23       │ 1,2    │ 81         │ -             │ 4,2     │ 516     │\n",
      "\n",
      "│ Row  │ Tot. no./hour │ Lengthcl. │ Mean weight │ No./hour │\n",
      "│      │ \u001b[90mString\u001b[39m        │ \u001b[90mString\u001b[39m    │ \u001b[90mString\u001b[39m      │ \u001b[90mString\u001b[39m   │\n",
      "├──────┼───────────────┼───────────┼─────────────┼──────────┤\n",
      "│ 1    │ 15559,4       │ 170       │ -           │ 25,5     │\n",
      "│ 2    │ 15559,4       │ 180       │ -           │ 76,5     │\n",
      "│ 3    │ 15559,4       │ 190       │ -           │ 306      │\n",
      "│ 4    │ 15559,4       │ 200       │ -           │ 816,1    │\n"
     ]
    },
    {
     "name": "stdout",
     "output_type": "stream",
     "text": [
      "│ 5    │ 15559,4       │ 210       │ -           │ 1351,7   │\n",
      "│ 6    │ 15559,4       │ 220       │ -           │ 2550,4   │\n",
      "│ 7    │ 15559,4       │ 230       │ -           │ 2830,9   │\n",
      "│ 8    │ 15559,4       │ 240       │ -           │ 2142,3   │\n",
      "│ 9    │ 15559,4       │ 250       │ -           │ 1759,8   │\n",
      "│ 10   │ 15559,4       │ 260       │ -           │ 841,6    │\n",
      "⋮\n",
      "│ 7105 │ 2138,8        │ 340       │ -           │ 160,6    │\n",
      "│ 7106 │ 2138,8        │ 350       │ -           │ 105,2    │\n",
      "│ 7107 │ 2138,8        │ 360       │ -           │ 49,8     │\n",
      "│ 7108 │ 2138,8        │ 370       │ -           │ 66,4     │\n",
      "│ 7109 │ 2138,8        │ 380       │ -           │ 27,7     │\n",
      "│ 7110 │ 2138,8        │ 390       │ -           │ 33,2     │\n",
      "│ 7111 │ 2138,8        │ 400       │ -           │ 5,5      │\n",
      "│ 7112 │ 2138,8        │ 410       │ -           │ 5,2      │\n",
      "│ 7113 │ 2138,8        │ 420       │ -           │ 7,8      │\n",
      "│ 7114 │ 2138,8        │ 430       │ -           │ 5,2      │\n",
      "│ 7115 │ 2138,8        │ 440       │ -           │ 2,6      │\n",
      "\n",
      "│ Row  │ Length measure type │\n",
      "│      │ \u001b[90mString\u001b[39m              │\n",
      "├──────┼─────────────────────┤\n",
      "│ 1    │ -                   │\n",
      "│ 2    │ -                   │\n",
      "│ 3    │ -                   │\n",
      "│ 4    │ -                   │\n",
      "│ 5    │ -                   │\n",
      "│ 6    │ -                   │\n",
      "│ 7    │ -                   │\n",
      "│ 8    │ -                   │\n",
      "│ 9    │ -                   │\n",
      "│ 10   │ -                   │\n",
      "⋮\n",
      "│ 7105 │ Total length TL     │\n",
      "│ 7106 │ Total length TL     │\n",
      "│ 7107 │ Total length TL     │\n",
      "│ 7108 │ Total length TL     │\n",
      "│ 7109 │ Total length TL     │\n",
      "│ 7110 │ Total length TL     │\n",
      "│ 7111 │ Total length TL     │\n",
      "│ 7112 │ Total length TL     │\n",
      "│ 7113 │ Total length TL     │\n",
      "│ 7114 │ Total length TL     │\n",
      "│ 7115 │ Total length TL     │"
     ]
    }
   ],
   "source": [
    "show(x, allcols = true)\n"
   ]
  },
  {
   "cell_type": "code",
   "execution_count": 2,
   "metadata": {
    "slideshow": {
     "slide_type": "subslide"
    }
   },
   "outputs": [
    {
     "data": {
      "image/png": "[encoded data removed]",
      "text/plain": [
       "<IPython.core.display.Image object>"
      ]
     },
     "metadata": {},
     "output_type": "display_data"
    }
   ],
   "source": [
    "### 3. Rarefaction and sampling effort curves in diets (Octave/Matlab)\n",
    "\n",
    "%https://wiki.octave.org/Dataframe_package\n",
    "%https://stackoverflow.com/questions/32504203/install-octave-package-manually\n",
    "pkg load dataframe\n",
    "pkg load statistics\n",
    "\n",
    "%pkg update\n",
    "%pkg installed\n",
    "\n",
    "%class(data)\n",
    "%data.colnames\n",
    "\n",
    "data = dataframe('StomachCodTest.csv');\n",
    "g = data;\n",
    "g_pred_code = g.pred_code;\n",
    "a = cellstr(g_pred_code);\n",
    "LIST = find(ismember(a, 'COD'));\n",
    "\n",
    "b = data;\n",
    "b_prey_sp_code = b.prey_sp_code;\n",
    "b = cellstr(b_prey_sp_code);\n",
    "%c = unique(b);\n",
    "___+{{}}\n",
    "for i = 1:10;\n",
    "count = 0;\n",
    "for k = 10:100;\n",
    "   \n",
    "    IndCOD = randsample(LIST,k);\n",
    "    R = unique(b(IndCOD,1));\n",
    "    count = count + 1;\n",
    "    OUTPUT(count,1) = k;\n",
    "    e = size(R);\n",
    "    OUTPUT(count,2) = e(1,1);\n",
    "   \n",
    "end\n",
    "hold on\n",
    "plot(OUTPUT(:,1),OUTPUT(:,2))\n",
    "end\n",
    "xlabel('Sampling effort',\"fontsize\",14)\n",
    "ylabel('Cumulative number of prey',\"fontsize\",14)\n",
    "set(gca,'fontsize',14);"
   ]
  },
  {
   "cell_type": "markdown",
   "metadata": {
    "slideshow": {
     "slide_type": "subslide"
    }
   },
   "source": [
    "# Rarefaction 10k\n",
    "![title](rarefaction5k.png)"
   ]
  },
  {
   "cell_type": "markdown",
   "metadata": {
    "slideshow": {
     "slide_type": "subslide"
    }
   },
   "source": [
    "<div>\n",
    "<img src=\"CumulativenumberpreyAllPolis.png\" width=400 height=400/>\n",
    "</div>"
   ]
  },
  {
   "cell_type": "code",
   "execution_count": null,
   "metadata": {
    "collapsed": true,
    "slideshow": {
     "slide_type": "subslide"
    }
   },
   "outputs": [],
   "source": [
    "#### rarefaction2.m\n",
    "##### https://wiki.octave.org/Dataframe_package\n",
    "##### https://stackoverflow.com/questions/32504203/install-octave-package-manually\n",
    "\n",
    "pkg load dataframe\n",
    "pkg load statistics\n",
    "pkg load io\n",
    "c = csv2cell('datashow/Stomachsoctave.csv');\n",
    "%1 predcode 2 predsizze 3 preyspcode\n",
    "LIST = find(ismember(c(:,1), 'COD'));\n",
    "a = csvread('datashow/Stomachsoctave.csv');\n",
    "\n",
    "for i = 1:10;count = 0;\n",
    "for k = 10:2000;\n",
    "    if k == 10;\n",
    "    IndCOD = randsample(LIST,k);\n",
    "    R = unique(c(IndCOD,3));\n",
    "    count = count + 1;\n",
    "    OUTPUT(count,1) = k;\n",
    "    e = size(R);\n",
    "    OUTPUT(count,2) = e(1,1);\n",
    "    \n",
    "    else\n",
    "    \n",
    "    A = randsample(LIST,1);\n",
    "    IndCOD(k,1) = A; \n",
    "\n",
    "    counta = 0;\n",
    "    for i = 1:5;\n",
    "        Wa = find(LIST == A + i);\n",
    "        if ~isempty(Wa);\n",
    "           if a(A,2) == a(A+i,2);\n",
    "              counta = counta + 1;\n",
    "              IndCOD(k+counta,1) = A+i; \n",
    "           else\n",
    "           break\n",
    "           end\n",
    "       else\n",
    "       break\n",
    "       end\n",
    "    end\n",
    "    \n",
    "    for j = 1:5;\n",
    "        Wb = find(LIST == A - j);\n",
    "        if ~isempty(Wb);\n",
    "           if a(A,2) == a(A-i,2);\n",
    "              counta = counta + 1;\n",
    "              IndCOD(k+counta,1) = A-i;\n",
    "           else\n",
    "           break\n",
    "           end\n",
    "        else\n",
    "        break\n",
    "        end\n",
    "     end\n",
    "    S = unique(c(IndCOD,3));\n",
    "    count = count + 1;\n",
    "    OUTPUT(count,1) = k;\n",
    "    e = size(S);\n",
    "    OUTPUT(count,2) = e(1,1);\n",
    "    end\n",
    "end\n",
    "hold on\n",
    "plot(OUTPUT(:,1),OUTPUT(:,2))\n",
    "end\n",
    "xlabel('Sampling effort',\"fontsize\",14)\n",
    "ylabel('Cumulative number of prey',\"fontsize\",14)\n",
    "set(gca,'fontsize',14);"
   ]
  },
  {
   "cell_type": "code",
   "execution_count": null,
   "metadata": {
    "collapsed": true,
    "slideshow": {
     "slide_type": "slide"
    }
   },
   "outputs": [],
   "source": [
    "### plantpollinator (Octave example)"
   ]
  }
 ],
 "metadata": {
  "@webio": {
   "lastCommId": null,
   "lastKernelId": null
  },
  "celltoolbar": "Slideshow",
  "kernelspec": {
   "display_name": "R",
   "language": "R",
   "name": "ir"
  },
  "language_info": {
   "codemirror_mode": {
    "name": "ipython",
    "version": 3
   },
   "file_extension": ".py",
   "mimetype": "text/x-python",
   "name": "python",
   "nbconvert_exporter": "python",
   "pygments_lexer": "ipython3",
   "version": "3.7.3"
  }
 },
 "nbformat": 4,
 "nbformat_minor": 2
}
