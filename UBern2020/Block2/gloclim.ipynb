{
 "cells": [
  {
   "cell_type": "markdown",
   "metadata": {
    "slideshow": {
     "slide_type": "slide"
    }
   },
   "source": [
    "# Current and future global climate impacts resulting from COVID-19\n",
    "\n",
    "##### Piers M. Forster, Harriet I. Forster, Mat J. Evans, Matthew J. Gidden, Chris D. Jones, Christoph A. Keller, Robin D. Lamboll, Corinne Le Quéré, Joeri Rogelj, Deborah Rosen, Carl-Friedrich Schleussner, Thomas B. Richardson, Christopher J. Smith & Steven T. Turnock (2020). Nature Climate Change, 10:913–919.\n"
   ]
  },
  {
   "cell_type": "markdown",
   "metadata": {
    "slideshow": {
     "slide_type": "slide"
    }
   },
   "source": [
    "# Nature climate change \n",
    "from IPython.core.display import display, HTML\n",
    "display(HTML(\"\"\"<a href=\"https://www.nature.com/nclimate/\">Nature Climate Change</a>\"\"\"))\n",
    "\n"
   ]
  },
  {
   "cell_type": "markdown",
   "metadata": {
    "slideshow": {
     "slide_type": "slide"
    }
   },
   "source": [
    "# Questions\n",
    "\n",
    "\n",
    "## Which are the current and future patterns of global reductions in Greenhouse Gases (GHG), NO_x and SO_2 as a consequence of COVID-19 pandemic?\n",
    "\n",
    "## How do emission patterns resulting from COVID-19 alter global temperature response?\n"
   ]
  },
  {
   "cell_type": "markdown",
   "metadata": {},
   "source": [
    "# Summary\n",
    "\n",
    "## Global emissions of ten species show a negligible direct effect of the COVID-19 pandemic on the cooling-warming balancing on Earth"
   ]
  },
  {
   "cell_type": "markdown",
   "metadata": {
    "slideshow": {
     "slide_type": "slide"
    }
   },
   "source": [
    "\n",
    "# Reproducibility\n",
    "\n",
    "\n",
    "## Data availability\n",
    "\n",
    "A GitHub repository of the generated datasets is available \n",
    "\n",
    "from IPython.core.display import display, HTML\n",
    "display(HTML(\"\"\"<a href=\"https://github.com/Priestley-Centre/COVID19_emissions\">Github Priestley Centre</a>\"\"\"))\n",
    "\n",
    "and on Zenodo https://doi.org/10.5281/zenodo.3957826\n",
    "\n",
    "\n",
    "## Online content\n",
    "\n",
    "#### Any methods, additional references, Nature Research reporting summaries, source data, extended data, supplementary information, acknowledgements, peer review information; details of author contributions and competing interests; and statements of data and code availability are available at https://doi.org/10.1038/s41558-020-0883-0.\n",
    "\n"
   ]
  },
  {
   "cell_type": "markdown",
   "metadata": {
    "slideshow": {
     "slide_type": "subslide"
    }
   },
   "source": [
    "# Reproducibility \n",
    "\n",
    "# Global mobility data ---------------------------------------------------------\n",
    "#### Google LLC mobility data are available from https://www.google.com/covid19/mobility/ \n",
    "#### Apple LLC mobility data are available from https://www.apple.com/covid19/mobility \n",
    "#### Le Quéré, C. et al. Temporary reduction in daily global CO2 emissions during the COVID-19 forced confinement. Nat. Clim. Change 10, 647–653 (2020)."
   ]
  },
  {
   "cell_type": "markdown",
   "metadata": {
    "slideshow": {
     "slide_type": "subslide"
    }
   },
   "source": [
    "# Reproducibility \n",
    "\n",
    "# Emissions  ---------------------------\n",
    "#### Le Quéré et al.3 emissions data are available from https://www.icos-cp.eu/gcp-covid19 \n",
    "#### EDGAR gridded emissions data are available from https://data.europa.eu/doi/10.2904/JRC_DATASET_EDGAR \n"
   ]
  },
  {
   "cell_type": "markdown",
   "metadata": {
    "slideshow": {
     "slide_type": "subslide"
    }
   },
   "source": [
    "# Reproducibility\n",
    "\n",
    "# Temperature ------------------------------\n",
    "#### Cowtan and Way temperature observations are available from https://www-users.york.ac.uk/~kdc3/papers/coverage2013/had4_krig_annual_v2_0_0.txt \n",
    "\n",
    "# Air quality --------------------------------\n",
    "#### The air quality data are available from https://openaq.org/. \n",
    "\n",
    "#### The GEOS modelled air pollution data used in this study/project have been provided by the Global Modelling and Assimilation Office at NASA Goddard Space Flight Center and are available from https://opendap.nccs.nasa.gov/dods/gmao/geos-cf/assim."
   ]
  },
  {
   "cell_type": "markdown",
   "metadata": {
    "slideshow": {
     "slide_type": "subslide"
    }
   },
   "source": [
    "## Methods\n",
    "#### 1. New method emission trend analysis: \n",
    "##### Pros: near-real-time analysis, national granularity and consistent approach across nations and over time\n",
    "##### Cons: loss of direct connection between energy and emissions ---> assumptions about these relationships and opacity from data providers around their methodologies and uncertainties\n",
    "#### 2. Machine learning: Emission-driven NO2 obtained from machine-learning method to derive meteorology and chemistry-normalized changes in NO2 surface concentrations at air quality monitoring stations around the globe (Figure 3)\n",
    "##### Machine Learning based on: Grange, S. K. & Carslaw, D. C. Using meteorological normalisation to detect interventions in air quality time series. Sci. Total Environ. 653, 578–588 (2019).\n",
    "#### 3. Climate Emulator: The temperature changes from different pathways scenarios (Table 1) were simulated by the FaIR v1.5 climate emulator (Figure 4)\n",
    "https://github.com/OMS-NetZero/FAIR"
   ]
  },
  {
   "cell_type": "markdown",
   "metadata": {
    "slideshow": {
     "slide_type": "slide"
    }
   },
   "source": [
    "## Figure 1\n",
    "\n",
    "from IPython.core.display import display, HTML\n",
    "display(HTML(\"\"\"<a href=\"https://www.nature.com/articles/s41558-020-0883-0/figures/1\">Figure 1</a>\"\"\"))"
   ]
  },
  {
   "cell_type": "markdown",
   "metadata": {
    "slideshow": {
     "slide_type": "slide"
    }
   },
   "source": [
    "## Figure 2\n",
    "\n",
    "from IPython.core.display import display, HTML\n",
    "display(HTML(\"\"\"<a href=\"https://www.nature.com/articles/s41558-020-0883-0/figures/2\">Figure 2</a>\"\"\"))"
   ]
  },
  {
   "cell_type": "markdown",
   "metadata": {
    "slideshow": {
     "slide_type": "slide"
    }
   },
   "source": [
    "## Figure 3\n",
    "\n",
    "from IPython.core.display import display, HTML\n",
    "display(HTML(\"\"\"<a href=\"https://www.nature.com/articles/s41558-020-0883-0/figures/3\">Figure 3</a>\"\"\"))"
   ]
  },
  {
   "cell_type": "markdown",
   "metadata": {
    "slideshow": {
     "slide_type": "slide"
    }
   },
   "source": [
    "## Figure 4\n",
    "\n",
    "from IPython.core.display import display, HTML\n",
    "display(HTML(\"\"\"<a href=\"https://www.nature.com/articles/s41558-020-0883-0/figures/4\">Figure 4</a>\"\"\"))"
   ]
  },
  {
   "cell_type": "markdown",
   "metadata": {
    "slideshow": {
     "slide_type": "slide"
    }
   },
   "source": [
    "## Figure 5\n",
    "\n",
    "from IPython.core.display import display, HTML\n",
    "display(HTML(\"\"\"<a href=\"https://www.nature.com/articles/s41558-020-0883-0/figures/5\">Figure 5</a>\"\"\"))"
   ]
  },
  {
   "cell_type": "markdown",
   "metadata": {
    "collapsed": true,
    "slideshow": {
     "slide_type": "slide"
    }
   },
   "source": [
    "# Take home message\n",
    "\n",
    "## Global mobility and emission data\n",
    "## Global emission reductions for ten species :: NOx --> Cooling :: SO2 --> Warming\n",
    "## Balancing out --> Pandemic cooling around 0.01 ± 0.005 °C by 2030 \n",
    "## Green stimulus avoid warming of 0.3 °C by 2050.\n",
    "\n"
   ]
  }
 ],
 "metadata": {
  "@webio": {
   "lastCommId": null,
   "lastKernelId": null
  },
  "celltoolbar": "Slideshow",
  "kernelspec": {
   "display_name": "Python 3",
   "language": "python",
   "name": "python3"
  },
  "language_info": {
   "codemirror_mode": {
    "name": "ipython",
    "version": 3
   },
   "file_extension": ".py",
   "mimetype": "text/x-python",
   "name": "python",
   "nbconvert_exporter": "python",
   "pygments_lexer": "ipython3",
   "version": "3.7.3"
  }
 },
 "nbformat": 4,
 "nbformat_minor": 2
}
