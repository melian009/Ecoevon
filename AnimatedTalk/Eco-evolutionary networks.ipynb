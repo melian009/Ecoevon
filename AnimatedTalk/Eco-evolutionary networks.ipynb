{
 "cells": [
  {
   "cell_type": "markdown",
   "metadata": {
    "slideshow": {
     "slide_type": "slide"
    }
   },
   "source": [
    "Eco-Evolutionary Networks:\n",
    "Animated insights\n",
    "\n",
    "\n",
    "Carlos J. Melian\n",
    "\n",
    "U. Zürich, 28 March 2019 \n",
    "\n",
    "Ecological Networks BIO365"
   ]
  },
  {
   "cell_type": "code",
   "execution_count": 9,
   "metadata": {
    "slideshow": {
     "slide_type": "slide"
    }
   },
   "outputs": [
    {
     "data": {
      "text/html": [
       "<iframe width=\"560\" height=\"315\" src=\"https://www.youtube.com/embed/0ZGbIKd0XrM?start=150\" frameborder=\"0\" allow=\"accelerometer; autoplay; encrypted-media; gyroscope; picture-in-picture\" allowfullscreen></iframe>"
      ],
      "text/plain": [
       "<IPython.core.display.HTML object>"
      ]
     },
     "execution_count": 9,
     "metadata": {},
     "output_type": "execute_result"
    }
   ],
   "source": [
    "from IPython.display import HTML\n",
    "# Youtube\n",
    "HTML('<iframe width=\"560\" height=\"315\" src=\"https://www.youtube.com/embed/0ZGbIKd0XrM?start=150\" frameborder=\"0\" allow=\"accelerometer; autoplay; encrypted-media; gyroscope; picture-in-picture\" allowfullscreen></iframe>')\n",
    "\n",
    "#Title: Simulating Natural Selection\n",
    "#Authors: Special thanks to supporters on Patreon, especially:\n",
    "#Jordan Scales\n",
    "#Eric Helps\n",
    "#Ben Kamens\n",
    "#Ben Komalo\n",
    "#Christy Serbus\n",
    "#Sean Barker"
   ]
  },
  {
   "cell_type": "code",
   "execution_count": null,
   "metadata": {
    "collapsed": true,
    "slideshow": {
     "slide_type": "-"
    }
   },
   "outputs": [],
   "source": [
    "What type of selection?"
   ]
  },
  {
   "cell_type": "code",
   "execution_count": 7,
   "metadata": {
    "slideshow": {
     "slide_type": "slide"
    }
   },
   "outputs": [
    {
     "data": {
      "text/html": [
       "<iframe width=\"560\" height=\"315\" src=\"https://www.youtube.com/embed/0ZGbIKd0XrM?start=375\" frameborder=\"0\" allow=\"accelerometer; autoplay; encrypted-media; gyroscope; picture-in-picture\" allowfullscreen></iframe>"
      ],
      "text/plain": [
       "<IPython.core.display.HTML object>"
      ]
     },
     "execution_count": 7,
     "metadata": {},
     "output_type": "execute_result"
    }
   ],
   "source": [
    "from IPython.display import HTML\n",
    "\n",
    "HTML('<iframe width=\"560\" height=\"315\" src=\"https://www.youtube.com/embed/0ZGbIKd0XrM?start=375\" frameborder=\"0\" allow=\"accelerometer; autoplay; encrypted-media; gyroscope; picture-in-picture\" allowfullscreen></iframe>')"
   ]
  },
  {
   "cell_type": "code",
   "execution_count": null,
   "metadata": {
    "collapsed": true
   },
   "outputs": [],
   "source": [
    "What type of selection?"
   ]
  },
  {
   "cell_type": "code",
   "execution_count": 3,
   "metadata": {
    "slideshow": {
     "slide_type": "slide"
    }
   },
   "outputs": [
    {
     "data": {
      "text/html": [
       "<iframe width=\"560\" height=\"315\" src=\"https://upload.wikimedia.org/wikipedia/commons/1/13/Avida_host-parasite_coevolution_web.ogv\" frameborder=\"0\" allowfullscreen></iframe>"
      ],
      "text/plain": [
       "<IPython.core.display.HTML object>"
      ]
     },
     "execution_count": 3,
     "metadata": {},
     "output_type": "execute_result"
    }
   ],
   "source": [
    "from IPython.display import HTML\n",
    "\n",
    "HTML('<iframe width=\"560\" height=\"315\" src=\"https://upload.wikimedia.org/wikipedia/commons/1/13/Avida_host-parasite_coevolution_web.ogv\" frameborder=\"0\" allowfullscreen></iframe>')\n",
    "\n",
    "#Title: Avida host-parasite coevolution web.ogv\n",
    "#Author: Miguel A. Fortuna"
   ]
  },
  {
   "cell_type": "code",
   "execution_count": null,
   "metadata": {
    "collapsed": true,
    "slideshow": {
     "slide_type": "subslide"
    }
   },
   "outputs": [],
   "source": [
    "#Whats going on in this network?\n",
    "\n",
    "#Host phenotypes as green nodes and a parasite phenotypes as red nodes\n",
    "\n",
    "#Each interaction between a host phenotype and a parasite depicted as two arrows\n",
    "#the thickness of the red arrows depict the proportion of infections a particular parasite is responsible for inflicting \n",
    "#on the indicated host, \n",
    "\n",
    "#while the green arrows depict the proportion of hosts infected by a particular parasite \n",
    "\n",
    "#Sometimes asymmetry between the thicknesses of arrow-pairs lead to red arrows dominating the picture:\n",
    "\n"
   ]
  },
  {
   "cell_type": "code",
   "execution_count": null,
   "metadata": {
    "collapsed": true,
    "slideshow": {
     "slide_type": "subslide"
    }
   },
   "outputs": [],
   "source": [
    "What type of co-evolutionary selection can we observe in this animation?\n",
    "\n",
    "STABILIZING SELECTION\n",
    "New types emerge, but the frequency of common types remain fairly stable\n",
    " \n",
    "\n",
    "    Which other selection types can occur?\n",
    "\n",
    "    \n",
    "ARMS RACE DYNAMICS\n",
    "Directional selection in host-parasite dynamics \n",
    "\n",
    "FLUCTUATING SELECTION\n",
    "Negative frequency-dependent selection favoring host that\n",
    "resist the most frequently parasite and parasite that infect \n",
    "the most common host genotype "
   ]
  }
 ],
 "metadata": {
  "celltoolbar": "Slideshow",
  "kernelspec": {
   "display_name": "Python 3",
   "language": "python",
   "name": "python3"
  },
  "language_info": {
   "codemirror_mode": {
    "name": "ipython",
    "version": 3
   },
   "file_extension": ".py",
   "mimetype": "text/x-python",
   "name": "python",
   "nbconvert_exporter": "python",
   "pygments_lexer": "ipython3",
   "version": "3.6.7"
  }
 },
 "nbformat": 4,
 "nbformat_minor": 2
}
